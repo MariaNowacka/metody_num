{
  "cells": [
    {
      "cell_type": "markdown",
      "metadata": {
        "id": "GRdaz0JSVCjc"
      },
      "source": [
        "# Lista 3"
      ]
    },
    {
      "cell_type": "markdown",
      "metadata": {
        "id": "dL--VfjXVIc0"
      },
      "source": [
        "## zadanie 1"
      ]
    },
    {
      "cell_type": "code",
      "execution_count": 1,
      "metadata": {
        "id": "chj4S1obV8NY"
      },
      "outputs": [],
      "source": [
        "import numpy as np"
      ]
    },
    {
      "cell_type": "code",
      "execution_count": 2,
      "metadata": {
        "colab": {
          "base_uri": "https://localhost:8080/"
        },
        "id": "inuAFCAxX-zu",
        "outputId": "65316705-def0-4aac-92ab-61b1e5ff3c06"
      },
      "outputs": [
        {
          "name": "stdout",
          "output_type": "stream",
          "text": [
            "5.9604645e-08\n"
          ]
        }
      ],
      "source": [
        "u = np.float32(1)\n",
        "while np.float32(1) + u != np.float32(1):\n",
        "    u /= np.float32(2)\n",
        "u = np.float32(u)\n",
        "print(u)"
      ]
    },
    {
      "cell_type": "code",
      "execution_count": 3,
      "metadata": {
        "id": "GrXg-ZK8WCeP"
      },
      "outputs": [],
      "source": [
        "def eliminacja_gaussa_z_wyborem(A, b):\n",
        "  n = len(b)\n",
        "  x = np.zeros(n)\n",
        "\n",
        "  # Eliminacja współczynników\n",
        "  for k in range(n-1):\n",
        "    # Wybór elementu podstawowego\n",
        "    max_index = k + np.argmax(np.abs(A[k:, k]))\n",
        "    if max_index != k:\n",
        "      A[[k, max_index]] = A[[max_index, k]]\n",
        "      b[[k, max_index]] = b[[max_index, k]]\n",
        "\n",
        "    for i in range(k+1, n):\n",
        "      factor = A[i, k] / A[k, k]\n",
        "      A[i, k:] -= factor * A[k, k:]\n",
        "      b[i] -= factor * b[k]\n",
        "\n",
        "  # Podstawianie wstecz\n",
        "  x[n-1] = b[n-1] / A[n-1, n-1]\n",
        "  for i in range(n-2, -1, -1):\n",
        "    x[i] = (b[i] - np.dot(A[i, i+1:], x[i+1:])) / A[i, i]\n",
        "\n",
        "  return x"
      ]
    },
    {
      "cell_type": "code",
      "execution_count": 4,
      "metadata": {
        "id": "vfbzsg8RV2-h"
      },
      "outputs": [],
      "source": [
        "def inverse_matrix(A, tol = 1e-15):\n",
        "    det = np.linalg.det(A)\n",
        "    if not np.isclose(det, 0, atol=tol):\n",
        "        I = np.eye(A.shape[0])\n",
        "        return np.column_stack([eliminacja_gaussa_z_wyborem(A.copy(), I[:, i]) for i in range(len(I[1]))])\n",
        "    else:\n",
        "        print(\"Macierz nie jest odwracalna (wyznacznik ≈ 0 w zadanej tolerancji).\")\n",
        "        return False"
      ]
    },
    {
      "cell_type": "code",
      "execution_count": 5,
      "metadata": {
        "id": "3TjIs9lUVFXD"
      },
      "outputs": [],
      "source": [
        "def iteracyjnie_poj_prec(A, b):\n",
        "  A, b = A.astype(np.float32), b.astype(np.float32)\n",
        "  A_inv = inverse_matrix(A).astype(np.float32)\n",
        "  x = np.dot(A_inv, b)\n",
        "  r = b - np.dot(A, x)\n",
        "  i = 0\n",
        "  while (np.linalg.norm(r) > np.linalg.norm(np.dot(A, x))*u) & (i <1000 ):\n",
        "    x += np.dot(A_inv, r)\n",
        "    r = b - np.dot(A, x)\n",
        "    i +=1\n",
        "  return x, i\n"
      ]
    },
    {
      "cell_type": "code",
      "execution_count": 6,
      "metadata": {
        "colab": {
          "base_uri": "https://localhost:8080/"
        },
        "id": "ZrilaYJ-WTu1",
        "outputId": "dcd31a23-f9b9-48fa-a3eb-4adaa63498af"
      },
      "outputs": [
        {
          "data": {
            "text/plain": [
              "(array([   -94.87791,   2157.6992 , -10700.028  ,  17904.896  ,\n",
              "         -9442.598  ], dtype=float32),\n",
              " 161)"
            ]
          },
          "execution_count": 6,
          "metadata": {},
          "output_type": "execute_result"
        }
      ],
      "source": [
        "b1 = np.array([5,4,3,2,1])\n",
        "A1 = np.array([[1/(i+j-1) for i in range(1,6) ]  for j in range(1,6)])\n",
        "iteracyjnie_poj_prec(A1, b1)"
      ]
    },
    {
      "cell_type": "markdown",
      "metadata": {
        "id": "aEJ9CyZFdbMd"
      },
      "source": [
        "## zadanie 2"
      ]
    },
    {
      "cell_type": "code",
      "execution_count": 7,
      "metadata": {
        "id": "GokxBIDYZ01K"
      },
      "outputs": [],
      "source": [
        "n = 20\n",
        "x = np.zeros(n)"
      ]
    },
    {
      "cell_type": "code",
      "execution_count": 8,
      "metadata": {
        "id": "3LfzVOKBeLkC"
      },
      "outputs": [],
      "source": [
        "def generowanie_macierzy(n):\n",
        "  A = np.zeros((n,n))\n",
        "  A[0][0] = 4\n",
        "  A[0][n-1] = 1\n",
        "  A[n-1][0] = 1\n",
        "  for i in range(1, n):\n",
        "    A[i][i] = 4\n",
        "    A[i-1][i] = -1\n",
        "    A[i][i-1] = -1\n",
        "  D = np.diag(np.diag(A))\n",
        "  L = np.tril(A, -1)\n",
        "  U = np.triu(A, 1)\n",
        "  return A, L, D, U"
      ]
    },
    {
      "cell_type": "code",
      "execution_count": 9,
      "metadata": {
        "id": "bQ3Kcdiufo4_"
      },
      "outputs": [],
      "source": [
        "def gauss_seidel(n, tol=1e-10, max_iter=1000):\n",
        "  A, L, D, U = generowanie_macierzy(n)\n",
        "  b = np.zeros(n)\n",
        "  b[-1] = 100\n",
        "  N = inverse_matrix(D+L)\n",
        "  Mgs = -np.dot(N, U)\n",
        "  x = np.zeros(n)\n",
        "  zbiega = max(abs(np.linalg.eigvals(Mgs))) < 1\n",
        "  for i in range(max_iter):\n",
        "    x = np.dot(N, b) + np.dot(Mgs, x)\n",
        "    if np.linalg.norm(np.dot(A, x) - b) < tol:\n",
        "      return x, i, zbiega"
      ]
    },
    {
      "cell_type": "code",
      "execution_count": 10,
      "metadata": {
        "colab": {
          "base_uri": "https://localhost:8080/"
        },
        "id": "NkjZVN7l8xf9",
        "outputId": "c3ce96c7-2978-4d6f-b5fe-b273c8e5277d"
      },
      "outputs": [
        {
          "name": "stdout",
          "output_type": "stream",
          "text": [
            "(array([-7.73502692e+00, -2.07259421e+00, -5.55349941e-01, -1.48805549e-01,\n",
            "       -3.98722562e-02, -1.06834753e-02, -2.86164518e-03, -7.63105383e-04,\n",
            "       -1.90776347e-04, -1.12140772e-12,  1.90776345e-04,  7.63105381e-04,\n",
            "        2.86164518e-03,  1.06834753e-02,  3.98722562e-02,  1.48805549e-01,\n",
            "        5.55349941e-01,  2.07259421e+00,  7.73502692e+00,  2.88675135e+01]), 24, True)\n"
          ]
        }
      ],
      "source": [
        "wynik = gauss_seidel(20)\n",
        "print(wynik)"
      ]
    },
    {
      "cell_type": "markdown",
      "metadata": {
        "id": "tFkgTgiXLrBa"
      },
      "source": [
        "## zadanie 3"
      ]
    },
    {
      "cell_type": "code",
      "execution_count": 11,
      "metadata": {
        "id": "WrAJ2gsrNeJh"
      },
      "outputs": [],
      "source": [
        "import time"
      ]
    },
    {
      "cell_type": "code",
      "execution_count": 12,
      "metadata": {
        "colab": {
          "base_uri": "https://localhost:8080/"
        },
        "id": "l-fV5K4GIDFS",
        "outputId": "c693d241-9650-4e8e-8295-99b79030ca50"
      },
      "outputs": [
        {
          "name": "stdout",
          "output_type": "stream",
          "text": [
            "[-6.17106366e-12 -6.81898982e-12 -6.85473900e-12 -6.34725605e-12\n",
            " -5.46817452e-12 -4.41888019e-12 -3.37244685e-12 -2.44466470e-12\n",
            " -1.69136105e-12 -1.12140769e-12 -7.14674468e-13 -4.37541930e-13\n",
            " -2.51820700e-13 -1.12600901e-13  3.78447274e-14  2.61929367e-13\n",
            "  5.98965322e-13  1.03739239e-12  1.50901514e-12  1.91846539e-12]\n"
          ]
        }
      ],
      "source": [
        "A, _, _, _ = generowanie_macierzy(n)\n",
        "b = np.zeros(n)\n",
        "b[-1] = 100\n",
        "w2 = np.linalg.solve(A, b)\n",
        "print(wynik[0] - w2)"
      ]
    },
    {
      "cell_type": "code",
      "execution_count": 13,
      "metadata": {
        "id": "JEwhVgstNPKU"
      },
      "outputs": [],
      "source": [
        "start = time.time()\n",
        "gauss_seidel(n)\n",
        "end = time.time()\n",
        "t1 = end - start\n",
        "start = time.time()\n",
        "A, _, _, _ = generowanie_macierzy(n)\n",
        "b = np.zeros(n)\n",
        "b[-1] = 100\n",
        "np.linalg.solve(A, b)\n",
        "end = time.time()\n",
        "t2 = end - start"
      ]
    },
    {
      "cell_type": "code",
      "execution_count": 14,
      "metadata": {
        "colab": {
          "base_uri": "https://localhost:8080/"
        },
        "id": "gYaoz73hNvMR",
        "outputId": "295e00ac-307f-49d7-a49f-4b8a88a50265"
      },
      "outputs": [
        {
          "data": {
            "text/plain": [
              "(0.09196043014526367, 0.0009987354278564453, True)"
            ]
          },
          "execution_count": 14,
          "metadata": {},
          "output_type": "execute_result"
        }
      ],
      "source": [
        "t1, t2, t1> t2"
      ]
    },
    {
      "cell_type": "markdown",
      "metadata": {
        "id": "EnLBRJOmN0v5"
      },
      "source": [
        "Widzimy, że zaimplementowana metoda Gaussa-Seidla działa wolniej od wbudowanej funkcji do obliczania rozwiązań równań liniowych."
      ]
    },
    {
      "cell_type": "markdown",
      "metadata": {
        "id": "Y5Es5fLPOgbk"
      },
      "source": [
        "## zadanie 4"
      ]
    },
    {
      "cell_type": "code",
      "execution_count": 15,
      "metadata": {
        "id": "p3Ys36bchH7M"
      },
      "outputs": [],
      "source": [
        "import matplotlib.pyplot as plt"
      ]
    },
    {
      "cell_type": "code",
      "execution_count": 33,
      "metadata": {
        "id": "NbUOfEs7NwF2"
      },
      "outputs": [],
      "source": [
        "def matrix_4(n = 20):\n",
        "  A = np.zeros((n,n))\n",
        "  diagonal_values = np.linspace(0.025, 0.5, n)\n",
        "  np.fill_diagonal(A, diagonal_values)\n",
        "  for i in range(n-1):\n",
        "    # A[i][i] = 0.025*(i+1)\n",
        "    A[i][i+1] = 5\n",
        "  return A"
      ]
    },
    {
      "cell_type": "code",
      "execution_count": 51,
      "metadata": {
        "colab": {
          "base_uri": "https://localhost:8080/"
        },
        "id": "idQDD9mChCPB",
        "outputId": "44be47a5-dcfd-4de7-9cd1-e59fe002ffed"
      },
      "outputs": [],
      "source": [
        "def zadanie4(n=20):\n",
        "  B = matrix_4()\n",
        "  x =  np.ones(n)\n",
        "  etas = []\n",
        "  k = 100\n",
        "  k_min = None\n",
        "  x0_norm = np.linalg.norm(x, 2)\n",
        "  for i in range(1, k+1):\n",
        "    x = B @ x\n",
        "    norma  = np.linalg.norm(x, 2)\n",
        "    # print(i, norma)\n",
        "    eta = norma/x0_norm\n",
        "    etas.append(eta)\n",
        "    if k_min == None and eta < 1:\n",
        "      k_min = i\n",
        "  return etas, k_min"
      ]
    },
    {
      "cell_type": "code",
      "execution_count": 52,
      "metadata": {
        "colab": {
          "base_uri": "https://localhost:8080/"
        },
        "id": "Kbe6tv7qku6v",
        "outputId": "877efdb8-d9dd-4b70-b321-bd76c219e346"
      },
      "outputs": [
        {
          "name": "stdout",
          "output_type": "stream",
          "text": [
            "86\n"
          ]
        },
        {
          "data": {
            "image/png": "[encoded data removed]",
            "text/plain": [
              "<Figure size 640x480 with 1 Axes>"
            ]
          },
          "metadata": {},
          "output_type": "display_data"
        }
      ],
      "source": [
        "etaaa, k_min = zadanie4(20)\n",
        "print(k_min)\n",
        "plt.plot(etaaa, marker='o')\n",
        "plt.axvline(x=25, color='red', linestyle='--', label=f'k = {25}')\n",
        "plt.xlabel('k')\n",
        "plt.ylabel(r'$\\eta_k = \\frac{||x^{(k)}||_2}{||x^{(0)}||_2}$')\n",
        "plt.title('Wartości $\\eta_k$ w zależności od liczby iteracji k')\n",
        "plt.grid(True)\n",
        "plt.legend()\n",
        "plt.show()"
      ]
    },
    {
      "cell_type": "code",
      "execution_count": 54,
      "metadata": {
        "id": "8KAud8RY0QQd"
      },
      "outputs": [
        {
          "name": "stdout",
          "output_type": "stream",
          "text": [
            "Najmniejsze k, dla którego spełniona jest nierówność z polecenia: 86\n"
          ]
        }
      ],
      "source": [
        "print(f'Najmniejsze k, dla którego spełniona jest nierówność z polecenia: {k_min}')"
      ]
    }
  ],
  "metadata": {
    "colab": {
      "provenance": []
    },
    "kernelspec": {
      "display_name": "Python 3",
      "name": "python3"
    },
    "language_info": {
      "codemirror_mode": {
        "name": "ipython",
        "version": 3
      },
      "file_extension": ".py",
      "mimetype": "text/x-python",
      "name": "python",
      "nbconvert_exporter": "python",
      "pygments_lexer": "ipython3",
      "version": "3.11.9"
    }
  },
  "nbformat": 4,
  "nbformat_minor": 0
}
