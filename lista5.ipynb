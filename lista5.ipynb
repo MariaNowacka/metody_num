{
 "cells": [
  {
   "cell_type": "markdown",
   "metadata": {},
   "source": [
    "# Lista 5\n",
    "Maria Nowacka"
   ]
  },
  {
   "cell_type": "code",
   "execution_count": 1,
   "metadata": {},
   "outputs": [],
   "source": [
    "# interpolacja z wykładu\n",
    "def lagrange(x,xData,yData):\n",
    "    n = len(xData)\n",
    "    y = 0\n",
    "    for i in range(n):\n",
    "        w = 1.0\n",
    "        for j in range(n):\n",
    "            if i != j:\n",
    "                w = w*(x-xData[j])/(xData[i]-xData[j])\n",
    "        y = y + w*yData[i]\n",
    "    return y\n"
   ]
  },
  {
   "cell_type": "code",
   "execution_count": 14,
   "metadata": {},
   "outputs": [],
   "source": [
    "import matplotlib.pyplot as plt, numpy as np"
   ]
  },
  {
   "cell_type": "markdown",
   "metadata": {},
   "source": [
    "## zadanie 1\n",
    "Gęstość powietrza $ρ$ zmienia się z wysokością $h$ w następujący sposób:\n",
    "\n",
    "$$\n",
    "\\def\\arraystretch{1.5}\n",
    "   \\begin{array}{l|l|l|l}\n",
    "   \\hline \\hline\n",
    "   h (\\text{km})& 0 & 3 & 6 \\\\ \\hline\n",
    "\\rho (\\text{kg/m}^3) &  1,225 & 0,905 & 0,652 \\\\ \\hline \\hline\n",
    "\\end{array}\n",
    "$$\n",
    "Wyraź $ρ(h)$ jako funkcję kwadratową w $h$."
   ]
  },
  {
   "cell_type": "code",
   "execution_count": 18,
   "metadata": {},
   "outputs": [
    {
     "data": {
      "text/plain": [
       "array([ 1.225     , -0.11783333,  0.00372222])"
      ]
     },
     "execution_count": 18,
     "metadata": {},
     "output_type": "execute_result"
    },
    {
     "data": {
      "image/png": "[encoded data removed]",
      "text/plain": [
       "<Figure size 640x480 with 1 Axes>"
      ]
     },
     "metadata": {},
     "output_type": "display_data"
    }
   ],
   "source": [
    "points = [[0, 1.225], [3, 0.905], [6, 0.652]]\n",
    "def poly(x, coeffs):\n",
    "    result = 0\n",
    "    ln = len(coeffs)\n",
    "    for i, coeff in enumerate(coeffs):\n",
    "        pow = ln - 1 - i\n",
    "        result += coeff * x**pow\n",
    "    return result\n",
    "def density(points):\n",
    "    x = np.array([p[0] for p in points])\n",
    "    y = np.array([p[1] for p in points])\n",
    "    plt.scatter(x,y, color = 'red')\n",
    "    plt.xlabel('h')\n",
    "    plt.ylabel(r'$\\rho$')\n",
    "    n = len(x)-1\n",
    "    W = np.copy(y)\n",
    "    # obliczanie ilorazów różnicowych\n",
    "    for i in range(1,n+1):\n",
    "        for j in range(n,i-1,-1):\n",
    "            W[j]=(W[j]-W[j-1])/(x[j]-x[j-i])\n",
    "    a = np.copy(W)\n",
    "    # zmiana ilorazów różnicowych na współczynniki wielomianu\n",
    "    for i in range(n):\n",
    "        for j in range(n-1,i-1,-1):\n",
    "            a[j]=a[j]-x[j-i]*a[j+1]\n",
    "    xs = np.linspace(min(x)-1, max(x)+1, 100)\n",
    "    # obliczanie wartości wielomianu na wybranym przedziale\n",
    "    ys = [poly(s, a[::-1]) for s in xs]\n",
    "    plt.plot(xs, ys, label = 'dopasowanie')\n",
    "    return a\n",
    "density(points)"
   ]
  },
  {
   "cell_type": "code",
   "execution_count": 22,
   "metadata": {},
   "outputs": [],
   "source": [
    "def wielomian(x):\n",
    "    return 1.225 - 0.11783333*x + 0.00372222*x**2"
   ]
  },
  {
   "cell_type": "markdown",
   "metadata": {},
   "source": [
    "Uzyskujemy wielomian postaci:\n",
    "$$ p(x) = 1,225 - 0.11783333x + 0.00372222x^2 $$"
   ]
  },
  {
   "cell_type": "markdown",
   "metadata": {},
   "source": [
    "## zadanie 2\n",
    "W poniższej tabeli przedstawiony jest współczynnik oporu $c_D$ sfery w\n",
    "cieczy jako funkcja liczby Reynoldsa $Re$. Korzystając z naturalnych funkcji sklejanych, znajdź $c_D$ dla $Re$ = 5, 50, i 5000.\n",
    "$$\n",
    "\\def\\arraystretch{1.5}\n",
    "   \\begin{array}{l|l|l|l|l|l|l}\n",
    "   \\hline \\hline\n",
    "   Re & 0,2 & 2 & 20 & 200 & 2000 & 20000\\\\ \\hline\n",
    "   c_D &  103 & 13,9 & 2,72 & 0,8 & 0,401 & 0,433 \\\\ \\hline \\hline\n",
    "\\end{array}\n",
    "$$"
   ]
  },
  {
   "cell_type": "code",
   "execution_count": null,
   "metadata": {},
   "outputs": [],
   "source": []
  },
  {
   "cell_type": "code",
   "execution_count": null,
   "metadata": {},
   "outputs": [],
   "source": []
  }
 ],
 "metadata": {
  "kernelspec": {
   "display_name": "Python 3",
   "language": "python",
   "name": "python3"
  },
  "language_info": {
   "codemirror_mode": {
    "name": "ipython",
    "version": 3
   },
   "file_extension": ".py",
   "mimetype": "text/x-python",
   "name": "python",
   "nbconvert_exporter": "python",
   "pygments_lexer": "ipython3",
   "version": "3.11.9"
  }
 },
 "nbformat": 4,
 "nbformat_minor": 2
}
