{
  "cells": [
    {
      "cell_type": "markdown",
      "metadata": {
        "id": "_tE4P_VbBfaz"
      },
      "source": [
        "# Lista 4\n",
        "Maria Nowacka"
      ]
    },
    {
      "cell_type": "code",
      "execution_count": 157,
      "metadata": {
        "id": "p_TOulfkBfa2"
      },
      "outputs": [],
      "source": [
        "import numpy as np, math, matplotlib.pyplot as plt\n",
        "from scipy.optimize import fsolve"
      ]
    },
    {
      "cell_type": "markdown",
      "metadata": {
        "id": "7bXJNnmZBfa3"
      },
      "source": [
        "## zadanie 1\n",
        "Rozwiąż równanie\n",
        "$$ \\tag{1}\\tan(\\pi - x) - x = 0 $$\n",
        "Na podstawie uzysaknych wyników wypełnij tabelę 1.\n",
        "\n",
        "$$\\def\\arraystretch{1.5}\n",
        "   \\begin{array}{l|l|l|l|l}\n",
        "   & \\text{bisekcja} & \\text{m. Brenta} & \\text{m. siecznych} & \\text{m. Newtona} \\\\ \\hline\n",
        "x    &          &  &  &  \\\\\n",
        "f(x) &          &  &  &  \\\\\n",
        "\\text{liczba iteracji}     &          &  &  & \\\\\n",
        "\\text{liczba mnożeń i dodawań}      &          &  &  &\n",
        "\\end{array}$$"
      ]
    },
    {
      "cell_type": "markdown",
      "metadata": {
        "id": "FUdtfX8uBfa4"
      },
      "source": [
        "**bisekcja**"
      ]
    },
    {
      "cell_type": "code",
      "execution_count": 238,
      "metadata": {
        "id": "Qv0KnNUnBfa5"
      },
      "outputs": [],
      "source": [
        "def bisection(f,x1,x2,switch=1,tol=1.0e-8):\n",
        "    f1 = f(x1)\n",
        "    if f1 == 0.0: return x1\n",
        "    f2 = f(x2)\n",
        "    if f2 == 0.0: return x2\n",
        "    if np.sign(f1) == np.sign(f2):\n",
        "        print('Błędny przedział izolacji pierwiastka!')\n",
        "    n = int(math.ceil(math.log(abs(x2 - x1)/tol)/math.log(2.0)))\n",
        "    num_op = 6\n",
        "    for i in range(n):\n",
        "        x3 = 0.5*(x1 + x2); f3 = f(x3)\n",
        "        num_op += 4\n",
        "        if (switch == 1) and (abs(f3) > abs(f1)) and (abs(f3) > abs(f2)):\n",
        "            return None\n",
        "        if f3 == 0.0: return x3\n",
        "        if np.sign(f2)!= np.sign(f3): x1 = x3; f1 = f3\n",
        "        else: x2 = x3; f2 = f3\n",
        "    wynik = (x1 + x2)/2.0\n",
        "    return wynik, f(wynik), i+1, num_op+2\n"
      ]
    },
    {
      "cell_type": "code",
      "execution_count": 248,
      "metadata": {
        "id": "is1OELxcBfa5"
      },
      "outputs": [],
      "source": [
        "def fun(x): return np.tan(np.pi - x) - x"
      ]
    },
    {
      "cell_type": "code",
      "execution_count": 278,
      "metadata": {
        "colab": {
          "base_uri": "https://localhost:8080/",
          "height": 0
        },
        "id": "FEoySdqWBfa6",
        "outputId": "b21b3ba3-b72d-423e-a770-435ec1504c3d"
      },
      "outputs": [
        {
          "name": "stdout",
          "output_type": "stream",
          "text": [
            "x = 2.028757837042213, \n",
            "f(x) = 6.53308918074913e-09, \n",
            "i = 27, \n",
            "dodawania i mnożenia = 116\n"
          ]
        }
      ],
      "source": [
        "x,fx, i,n = bisection(fun, 1.7, 2.8)\n",
        "print(f'x = {x}, \\nf(x) = {fx}, \\ni = {i}, \\ndodawania i mnożenia = {n}')"
      ]
    },
    {
      "cell_type": "markdown",
      "metadata": {
        "id": "eGt7PCI3Bfa7"
      },
      "source": [
        "**m. Brenta**"
      ]
    },
    {
      "cell_type": "code",
      "execution_count": 241,
      "metadata": {
        "id": "OmEFO2qrBfa8"
      },
      "outputs": [],
      "source": [
        "def brent(f, a, b, tol=1.0e-9):\n",
        "    fa = f(a)\n",
        "    fb = f(b)\n",
        "    num_op = 4\n",
        "    if fa == 0.0: return a\n",
        "    if fb == 0.0: return b\n",
        "    if np.sign(fa) == np.sign(fb):\n",
        "        print('Błędny przedział izolacji pierwiastka!')\n",
        "        return None\n",
        "    c = a\n",
        "    fc = fa\n",
        "    i = 1\n",
        "    while abs(b - a) > tol:\n",
        "        i += 1\n",
        "        if (fa != fc) and (fb != fc):\n",
        "            s = a*fb*fc / ((fa - fb)*(fa - fc)) + b*fa*fc / ((fb - fa)*(fb - fc)) + c*fa*fb / ((fc - fa)*(fc - fb))\n",
        "            num_op += 20\n",
        "        else:\n",
        "            s = b - fb * (b - a) / (fb - fa)\n",
        "            num_op += 5\n",
        "        if not (a < s < b):\n",
        "            s = (a + b) / 2.0\n",
        "            num_op += 2\n",
        "        fs = f(s)\n",
        "        num_op += 2\n",
        "        c = b\n",
        "        fc = fb\n",
        "        if np.sign(fa) == np.sign(fs):\n",
        "            a = s\n",
        "            fa = fs\n",
        "        else:\n",
        "            b = s\n",
        "            fb = fs\n",
        "        if abs(b - a) < tol:\n",
        "            num_op += 1\n",
        "            return s, i, f(s), num_op\n",
        "\n",
        "    return (a + b) / 2.0, i, f((a + b) / 2.0), num_op +2"
      ]
    },
    {
      "cell_type": "code",
      "execution_count": 279,
      "metadata": {
        "colab": {
          "base_uri": "https://localhost:8080/",
          "height": 0
        },
        "id": "l_pWZdmPg12-",
        "outputId": "80438c70-fe29-4e01-84cb-6316dc55ae03"
      },
      "outputs": [
        {
          "name": "stdout",
          "output_type": "stream",
          "text": [
            "x = 2.0287578390608076, \n",
            "f(x) = -5.812349712641662e-09, \n",
            "i = 8, \n",
            "dodawania i mnożenia = 99\n"
          ]
        }
      ],
      "source": [
        "x, i, fx, n = brent(fun, 1.7, 2.8, tol = 1.0e-4)\n",
        "print(f'x = {x}, \\nf(x) = {fx}, \\ni = {i}, \\ndodawania i mnożenia = {n}')"
      ]
    },
    {
      "cell_type": "markdown",
      "metadata": {
        "id": "uB6fjzY6OIVc"
      },
      "source": [
        "**m. siecznych**"
      ]
    },
    {
      "cell_type": "code",
      "execution_count": 232,
      "metadata": {
        "id": "h5aL9vIfOL8X"
      },
      "outputs": [],
      "source": [
        "def sieczne(f, a, b, tol=1.0e-9, max_it = 1000):\n",
        "    fa = f(a)\n",
        "    fb = f(b)\n",
        "    num_op = 4\n",
        "    if fa == 0.0: return a\n",
        "    if fb == 0.0: return b\n",
        "    if np.sign(fa) == np.sign(fb):\n",
        "        print('Błędny przedział izolacji pierwiastka!')\n",
        "        return None\n",
        "    xs = a\n",
        "    fxs = f(xs)\n",
        "    num_op += 2\n",
        "    x = a - fa / (fb-fa) * (b-a)\n",
        "    fx = f(x)\n",
        "    i = 1\n",
        "    num_op += 7\n",
        "    for i in range(max_it):\n",
        "      temp, ftemp = x.copy(), fx.copy()\n",
        "      x -= fx * (x - xs) /(fx - fxs)\n",
        "      fx = f(x)\n",
        "      xs, fxs = temp, ftemp\n",
        "      num_op += 7\n",
        "\n",
        "      if abs(fx) < tol:\n",
        "        return x, fx, i, num_op\n",
        "      i += 1\n",
        "    return x, fx, i, num_op\n"
      ]
    },
    {
      "cell_type": "code",
      "execution_count": 280,
      "metadata": {
        "colab": {
          "base_uri": "https://localhost:8080/",
          "height": 0
        },
        "id": "V7NyChZxXYSq",
        "outputId": "6dc31b5c-a2ca-4ae5-9fd5-56988d94f803"
      },
      "outputs": [
        {
          "name": "stdout",
          "output_type": "stream",
          "text": [
            "x = 2.0287579776101743, \n",
            "f(x) = -8.531604507311386e-07, \n",
            "i = 6, \n",
            "dodawania i mnożenia = 62\n"
          ]
        }
      ],
      "source": [
        "x, fx, i, n = sieczne(fun, 1.7, 2.8, tol = 1.0e-4)\n",
        "print(f'x = {x}, \\nf(x) = {fx}, \\ni = {i}, \\ndodawania i mnożenia = {n}')"
      ]
    },
    {
      "cell_type": "markdown",
      "metadata": {
        "id": "qQxu3K5xXveM"
      },
      "source": [
        "**m. Newtona**"
      ]
    },
    {
      "cell_type": "code",
      "execution_count": 236,
      "metadata": {
        "id": "iAV55VMbXxk3"
      },
      "outputs": [],
      "source": [
        "def newton(f,Df,x0,epsilon,maxit):\n",
        "    xn = x0\n",
        "    i = 1\n",
        "    num_op = 0\n",
        "    for n in range(0,maxit):\n",
        "        fxn = f(xn)\n",
        "        num_op += 2\n",
        "        if abs(fxn) < epsilon:\n",
        "            return xn, n, fxn, num_op\n",
        "        Dfxn = Df(xn)\n",
        "        num_op += 4\n",
        "        if Dfxn == 0.0:\n",
        "            print('Zero derivative. No solution found.')\n",
        "            return None\n",
        "        xn -= fxn/Dfxn\n",
        "        num_op += 2\n",
        "    print('Exceeded maximum iterations. No solution found.')\n",
        "    return None"
      ]
    },
    {
      "cell_type": "code",
      "execution_count": 281,
      "metadata": {
        "colab": {
          "base_uri": "https://localhost:8080/",
          "height": 0
        },
        "id": "V0qwOit3YRAz",
        "outputId": "92866af3-91d2-4e62-f10e-84ff5a3ae61e"
      },
      "outputs": [
        {
          "name": "stdout",
          "output_type": "stream",
          "text": [
            "x = 2.028757838110434, \n",
            "f(x) = 0.0, \n",
            "i = 4, \n",
            "dodawania i mnożenia = 34\n"
          ]
        }
      ],
      "source": [
        "Df = lambda x: -1/np.cos(np.pi - x)**2 - 1\n",
        "x, i, fx, n = newton(fun,Df,2,1e-16,10)\n",
        "print(f'x = {x}, \\nf(x) = {fx}, \\ni = {i}, \\ndodawania i mnożenia = {n}')"
      ]
    },
    {
      "cell_type": "markdown",
      "metadata": {
        "id": "8dCzqzJ3hn2F"
      },
      "source": [
        "$$\\def\\arraystretch{1.5}\n",
        "   \\begin{array}{|c|c|c|c|c|} \\hline\n",
        "   & \\text{bisekcja} & \\text{m. Brenta} & \\text{m. siecznych} & \\text{m. Newtona} \\\\ \\hline\n",
        "x    & 2.0288 & 2.0288 & 2.0288, & 2.0288 \\\\\n",
        "f(x) & 6.5331e-09 & -5.8123e-09 & -8.5316e-07 & 0.0 \\\\\n",
        "\\text{liczba iteracji} & 27 & 8 & 6 & 4 \\\\\n",
        "\\text{liczba mnożeń i dodawań} & 116 & 99 & 62 & 34 \\\\ \\hline\n",
        "\\end{array}$$"
      ]
    },
    {
      "cell_type": "code",
      "execution_count": 250,
      "metadata": {
        "colab": {
          "base_uri": "https://localhost:8080/",
          "height": 0
        },
        "id": "IDnNM-CkpUyu",
        "outputId": "6b38049c-26dc-45d1-a86a-de263626f482"
      },
      "outputs": [
        {
          "name": "stdout",
          "output_type": "stream",
          "text": [
            "Rozwiązanie funkcją wbudowaną fsolve: \n",
            "x = [2.02875784]\n"
          ]
        }
      ],
      "source": [
        "x = fsolve(fun, 1.7)\n",
        "print(f\"Rozwiązanie funkcją wbudowaną fsolve: \\nx = {x}\")"
      ]
    },
    {
      "cell_type": "markdown",
      "metadata": {
        "id": "W8aPq84KkG53"
      },
      "source": [
        "## zadanie 2\n",
        " Sporządź wykres funkcji $f(x) = \\cosh{x} \\cos{x}−1$ w przedziale $4 \\leq x \\leq 8$. Na\n",
        "podstawie wykresu sprawdź, że najmniejszy dodatni pierwiastek równania\n",
        "$f(x) = 0$ leży w przedziale $(4, 5)$, a następnie pokaż, że iteracyjny wzór\n",
        "Newtona nie doprowadzi do tego pierwiastka, jeśli punktem startowym\n",
        "będzie $x_0 = 4$."
      ]
    },
    {
      "cell_type": "code",
      "execution_count": 60,
      "metadata": {
        "id": "XveOkNspYQ-9"
      },
      "outputs": [],
      "source": [
        "def fun2(x):\n",
        "  return np.cosh(x)*np.cos(x) - 1"
      ]
    },
    {
      "cell_type": "code",
      "execution_count": 71,
      "metadata": {
        "colab": {
          "base_uri": "https://localhost:8080/",
          "height": 454
        },
        "id": "54qBjWrsYQ8V",
        "outputId": "89508a8f-ba5b-457c-e25e-b45f7ce7e8fb"
      },
      "outputs": [
        {
          "data": {
            "image/png": "[encoded data removed]",
            "text/plain": [
              "<Figure size 640x480 with 1 Axes>"
            ]
          },
          "metadata": {},
          "output_type": "display_data"
        }
      ],
      "source": [
        "xs = np.linspace(4,8,1000)\n",
        "ys = fun2(xs)\n",
        "plt.plot(xs,ys,label = \"$f(x) = \\cosh{x} \\cos{x}−1$\")\n",
        "plt.axhline(y=0, linestyle = \"--\", color = 'red', label = \"$y = 0$\")\n",
        "plt.title(\"Wykres funkcji $f(x) = \\cosh{x} \\cos{x}−1$\")\n",
        "plt.grid()\n",
        "plt.legend()\n",
        "plt.show()"
      ]
    },
    {
      "cell_type": "code",
      "execution_count": 104,
      "metadata": {
        "id": "JTsR0V7Nr7KT"
      },
      "outputs": [],
      "source": [
        "def newton_iter(f,Df,x0,tol = 1e-6,maxit = 100):\n",
        "    for i in range(0,maxit):\n",
        "        fx0 = f(x0)\n",
        "        Dfx0 = Df(x0)\n",
        "        if Dfx0 < 1e-10:\n",
        "          raise ValueError('Pochodna bliska zeru. Nie znaleziono rozwiązania')\n",
        "        x1 = x0 - fx0 / Dfx0\n",
        "        if abs(x1 - x0) < tol:\n",
        "          return x1\n",
        "        x0 = x1\n",
        "    raise ValueError('Osiągnięto maksimum iteracji. Nie znaleziono rozwiązania')"
      ]
    },
    {
      "cell_type": "code",
      "execution_count": 256,
      "metadata": {
        "colab": {
          "base_uri": "https://localhost:8080/",
          "height": 0
        },
        "id": "WHZ5wYCAqRyU",
        "outputId": "916f5e32-6abd-403c-d217-704a55c105ed"
      },
      "outputs": [
        {
          "data": {
            "text/plain": [
              "(10.995607838002249, 1.7219616621488854e-08)"
            ]
          },
          "execution_count": 256,
          "metadata": {},
          "output_type": "execute_result"
        }
      ],
      "source": [
        "Df2 = lambda x: np.sinh(x)*np.cos(x) - np.cosh(x)*np.sin(x)\n",
        "x = newton(fun2, Df2, 4, 1e-6, 100)[0]\n",
        "x, fun2(x)"
      ]
    },
    {
      "cell_type": "code",
      "execution_count": 257,
      "metadata": {
        "colab": {
          "base_uri": "https://localhost:8080/",
          "height": 0
        },
        "id": "8eiWLeBYrMZo",
        "outputId": "2fb61155-dc4d-4845-8503-706aae505a0b"
      },
      "outputs": [
        {
          "name": "stdout",
          "output_type": "stream",
          "text": [
            "Rozwiązanie funkcją wbudowaną fsolve: \n",
            "x = [4.73004074]\n"
          ]
        }
      ],
      "source": [
        "x = fsolve(fun2, 4)\n",
        "print(f\"Rozwiązanie funkcją wbudowaną fsolve: \\nx = {x}\")"
      ]
    },
    {
      "cell_type": "markdown",
      "metadata": {
        "id": "tiMClT810j_i"
      },
      "source": [
        "## zadanie 3\n",
        "Prędkość v rakiety Saturn V w locie pionowym tuż przy powierzchni Ziemi\n",
        "można przybliżyć wzorem\n",
        "$$\\tag{2}v = u \\ln{ \\frac{M_0}{\n",
        "M_0 − mt}} − gt,$$\n",
        "gdzie \\\\\n",
        "$\\quad$  • $u = 2510\\ \\frac{m}{s}$ - prędkość spalin względem rakiety, \\\\\n",
        "$\\quad$  • $M_0 = 2, 8 × 10^6\\ \\text{kg}$ -masa rakiety w momencie oderwania od Ziemi, \\\\\n",
        "$\\quad$  • $m = 13, 3 × 10^3 \\frac{\\text{kg}}{s} $- szybkość zużycia paliwa, \\\\\n",
        "$\\quad$  • $g = 9, 81 \\frac{m}{s^2}$ - przyspieszenie ziemskie, \\\\\n",
        "$\\quad$  • $t$ - czas mierzony od oderwania od Ziemi. \\\\\n",
        "Wyznacz czas, po jakim rakieta osiągnie prędkość dźwięku ($335 \\frac{m}{s}$)."
      ]
    },
    {
      "cell_type": "code",
      "execution_count": null,
      "metadata": {
        "id": "NGsAnjzJ-f_G"
      },
      "outputs": [],
      "source": [
        "u = 2510  # m/s\n",
        "M0 = 2.8e6  # kg\n",
        "m_dot = 13.3e3  # kg/s\n",
        "g = 9.81  # m/s^2\n",
        "v_sound = 335  # m/s"
      ]
    },
    {
      "cell_type": "code",
      "execution_count": 284,
      "metadata": {
        "colab": {
          "base_uri": "https://localhost:8080/",
          "height": 472
        },
        "id": "znpHD6VMD6K1",
        "outputId": "c983ba5b-099a-4a79-e580-f78df66aae65"
      },
      "outputs": [
        {
          "data": {
            "image/png": "[encoded data removed]",
            "text/plain": [
              "<Figure size 640x480 with 1 Axes>"
            ]
          },
          "metadata": {},
          "output_type": "display_data"
        }
      ],
      "source": [
        "xs = np.linspace(0,100,1000)\n",
        "ys = u*np.log(M0/(M0 - m_dot*xs)) - g*xs\n",
        "plt.plot(xs, ys, label = \"prędkość rakiety w funkcji czasu\")\n",
        "plt.axhline(y=v_sound, linestyle = \"--\", color = 'red', label = \"prędkość dźwięku\")\n",
        "plt.title(\"Wykres prędkości rakiety w funkcji czasu\")\n",
        "plt.grid()\n",
        "plt.xlabel(\"t [s]\")\n",
        "plt.ylabel(\"v [m/s]\")\n",
        "plt.legend()\n",
        "plt.show()"
      ]
    },
    {
      "cell_type": "code",
      "execution_count": 127,
      "metadata": {
        "id": "NdP7xEB87piT"
      },
      "outputs": [],
      "source": [
        "def v(t, u = u, M0 = M0, m = m_dot, g = g):\n",
        "  return u*np.log(M0/(M0 - m*t)) - g*t"
      ]
    },
    {
      "cell_type": "code",
      "execution_count": 128,
      "metadata": {
        "id": "03p1cQWCCQiM"
      },
      "outputs": [],
      "source": [
        "def v_prime(t, u = u, M0 = M0, m = m_dot, g = g):\n",
        "  return -u*m/(M0 - m*t) - g"
      ]
    },
    {
      "cell_type": "code",
      "execution_count": 129,
      "metadata": {
        "id": "x1wWV3b895E1"
      },
      "outputs": [],
      "source": [
        "def v_equation(t, v_sound = v_sound):\n",
        "  return v(t) - v_sound"
      ]
    },
    {
      "cell_type": "code",
      "execution_count": 131,
      "metadata": {
        "colab": {
          "base_uri": "https://localhost:8080/",
          "height": 0
        },
        "id": "I5GqgREk_H64",
        "outputId": "458930c2-ea3f-4021-dba5-b6b04420baa9"
      },
      "outputs": [
        {
          "data": {
            "text/plain": [
              "(70.87797226813564, 335.0000000004454)"
            ]
          },
          "execution_count": 131,
          "metadata": {},
          "output_type": "execute_result"
        }
      ],
      "source": [
        "t,_,_,_ = bisection(v_equation, 50, 100)\n",
        "t, v(t)"
      ]
    },
    {
      "cell_type": "code",
      "execution_count": 262,
      "metadata": {
        "colab": {
          "base_uri": "https://localhost:8080/",
          "height": 0
        },
        "id": "q4uMRrsnrXHU",
        "outputId": "92d6c972-de2b-4133-e4c5-05292b9c0c25"
      },
      "outputs": [
        {
          "name": "stdout",
          "output_type": "stream",
          "text": [
            "Rozwiązanie funkcją wbudowaną fsolve: \n",
            "x = [70.87797227]\n"
          ]
        }
      ],
      "source": [
        "x = fsolve(v_equation, 60) # punkt początkowy wybieramy na podstawie wykresu\n",
        "print(f\"Rozwiązanie funkcją wbudowaną fsolve: \\nx = {x}\")"
      ]
    },
    {
      "cell_type": "markdown",
      "metadata": {
        "id": "bA0m1CpnFTNN"
      },
      "source": [
        "## zadanie 4\n",
        "$ G = -RT \\ln\\left[ \\left(\\frac{T}{T_0} \\right)^{5/2}\\right], $\n",
        "\n",
        "gdzie $ R = 8.31441\\ \\frac{\\text{J}}{\\text{K}} $ to stała gazowa, a $T_0 = 4.44418\\ \\text{K}$. Wyznacz\n",
        "temperaturę, w której $G = −10^5 \\text{J}$.\n"
      ]
    },
    {
      "cell_type": "code",
      "execution_count": 143,
      "metadata": {
        "id": "sn3s_Me-GwJr"
      },
      "outputs": [],
      "source": [
        "R = 8.31441 # J/K\n",
        "T0 = 4.44418 # K\n",
        "G_target = -1e5 # J"
      ]
    },
    {
      "cell_type": "code",
      "execution_count": 134,
      "metadata": {
        "id": "H0OjXC7KGZ3j"
      },
      "outputs": [],
      "source": [
        "def G(T, R = R, T0 = T0):\n",
        "  return -R*T*np.log((T/T0)**(5/2))"
      ]
    },
    {
      "cell_type": "code",
      "execution_count": 144,
      "metadata": {
        "id": "8lzSkfT4G-hJ"
      },
      "outputs": [],
      "source": [
        "def G_eq(T):\n",
        "  return G(T, R, T0) - G_target"
      ]
    },
    {
      "cell_type": "code",
      "execution_count": 283,
      "metadata": {
        "colab": {
          "base_uri": "https://localhost:8080/",
          "height": 541
        },
        "id": "uBT55ai5HgOy",
        "outputId": "307fcb2a-8f40-4190-d72e-34d492ddaa47"
      },
      "outputs": [
        {
          "name": "stderr",
          "output_type": "stream",
          "text": [
            "<ipython-input-134-6ea6ed9c7670>:2: RuntimeWarning: divide by zero encountered in log\n",
            "  return -R*T*np.log((T/T0)**(5/2))\n",
            "<ipython-input-134-6ea6ed9c7670>:2: RuntimeWarning: invalid value encountered in multiply\n",
            "  return -R*T*np.log((T/T0)**(5/2))\n"
          ]
        },
        {
          "data": {
            "image/png": "[encoded data removed]",
            "text/plain": [
              "<Figure size 640x480 with 1 Axes>"
            ]
          },
          "metadata": {},
          "output_type": "display_data"
        }
      ],
      "source": [
        "xs = np.linspace(0,1000,1000)\n",
        "ys = G(xs)\n",
        "plt.plot(xs, ys, label = \"G(T)\")\n",
        "plt.axhline(y = G_target, color = 'red', ls='--')\n",
        "plt.title(\"Wykres funkcji G(T)\")\n",
        "plt.grid()\n",
        "plt.xlabel(\"T\")\n",
        "plt.ylabel(\"G\")\n",
        "plt.legend()\n",
        "plt.show()"
      ]
    },
    {
      "cell_type": "code",
      "execution_count": 149,
      "metadata": {
        "colab": {
          "base_uri": "https://localhost:8080/",
          "height": 0
        },
        "id": "GtdJ0ixbHI5i",
        "outputId": "809bbbc4-063d-470f-b755-dae932b4ad1a"
      },
      "outputs": [
        {
          "data": {
            "text/plain": [
              "(904.942583232696, -99999.99999997579)"
            ]
          },
          "execution_count": 149,
          "metadata": {},
          "output_type": "execute_result"
        }
      ],
      "source": [
        "T, _, _, _ = bisection(G_eq, 800, 1000)\n",
        "T, G(T)"
      ]
    },
    {
      "cell_type": "code",
      "execution_count": 263,
      "metadata": {
        "colab": {
          "base_uri": "https://localhost:8080/",
          "height": 0
        },
        "id": "JtpQy9miruMx",
        "outputId": "282d3880-5047-408c-8522-0d13f0350451"
      },
      "outputs": [
        {
          "name": "stdout",
          "output_type": "stream",
          "text": [
            "Rozwiązanie funkcją wbudowaną fsolve: \n",
            "x = [904.94258323]\n"
          ]
        }
      ],
      "source": [
        "x = fsolve(G_eq, 800) # punkt początkowy wybieramy na podstawie wykresu\n",
        "print(f\"Rozwiązanie funkcją wbudowaną fsolve: \\nx = {x}\")"
      ]
    },
    {
      "cell_type": "markdown",
      "metadata": {
        "id": "hWc7XR-yIqCw"
      },
      "source": [
        "## zadanie 5\n",
        "Korzystając z dowolnej metody wyznacz wszystkie rozwiązania rzeczywiste układu równań\n",
        "$$ \\tag{4}\\begin{align}\n",
        "\\tan{x} − y &= 1, \\\\\n",
        "\\cos{x} − 3 \\sin{y} &= 0,\n",
        "\\end{align}$$\n",
        "w przedziale $(0; 1, 5)$.\n",
        "\n"
      ]
    },
    {
      "cell_type": "code",
      "execution_count": 152,
      "metadata": {
        "id": "B4QGF6L3Kp5i"
      },
      "outputs": [],
      "source": [
        "def equations(var):\n",
        "  x, y = var\n",
        "  return [np.tan(x) - y - 1, np.cos(x) - 3*np.sin(y)]"
      ]
    },
    {
      "cell_type": "code",
      "execution_count": 154,
      "metadata": {
        "id": "P9cTN-pKPTx2"
      },
      "outputs": [],
      "source": [
        "def solve_system(equations, initial_guess, tol=1e-7, max_iter=100):\n",
        "    x, y = initial_guess\n",
        "    for _ in range(max_iter):\n",
        "        f1, f2 = equations([x, y])\n",
        "        J = np.array([                  # macierz Jacobiego (pochodne)\n",
        "            [1 / np.cos(x)**2, -1],\n",
        "            [-np.sin(x), -3 * np.cos(y)]\n",
        "        ])\n",
        "        delta = np.linalg.solve(J, [-f1, -f2])\n",
        "        x, y = x + delta[0], y + delta[1]\n",
        "        if np.linalg.norm(delta) < tol:\n",
        "            return x, y\n",
        "    raise ValueError(\"Maximum iterations exceeded.\")"
      ]
    },
    {
      "cell_type": "code",
      "execution_count": 155,
      "metadata": {
        "colab": {
          "base_uri": "https://localhost:8080/",
          "height": 0
        },
        "id": "uUOUNK39RjzH",
        "outputId": "cbfeb7d2-044a-402f-af01-e30c89fc9015"
      },
      "outputs": [
        {
          "data": {
            "text/plain": [
              "(0.8815925944959484, 0.2135947145716605)"
            ]
          },
          "execution_count": 155,
          "metadata": {},
          "output_type": "execute_result"
        }
      ],
      "source": [
        "x, y = solve_system(equations, [0.5, 0.5])\n",
        "x, y"
      ]
    },
    {
      "cell_type": "code",
      "execution_count": 266,
      "metadata": {
        "colab": {
          "base_uri": "https://localhost:8080/",
          "height": 452
        },
        "id": "iNowa9M5SZfa",
        "outputId": "71177f41-47cb-4814-92b8-fff4a36724e8"
      },
      "outputs": [
        {
          "data": {
            "image/png": "[encoded data removed]",
            "text/plain": [
              "<Figure size 640x480 with 1 Axes>"
            ]
          },
          "metadata": {},
          "output_type": "display_data"
        }
      ],
      "source": [
        "xs = np.linspace(0, 1.5, 1000)\n",
        "ys1 = np.tan(xs) - 1\n",
        "ys2 = np.arcsin(np.cos(xs)/3)\n",
        "plt.plot(xs, ys1, label = \"tan(x) - 1\")\n",
        "plt.plot(xs, ys2, label = \"arcsin(cos(x)/3\")\n",
        "plt.grid()\n",
        "plt.title(\"Wykresy funkcji\")\n",
        "plt.legend()\n",
        "plt.show()\n"
      ]
    },
    {
      "cell_type": "code",
      "execution_count": 265,
      "metadata": {
        "colab": {
          "base_uri": "https://localhost:8080/",
          "height": 0
        },
        "id": "_SW_imLCRqe2",
        "outputId": "e6b58efb-40be-41f9-b977-3fc2c4d5ad68"
      },
      "outputs": [
        {
          "name": "stdout",
          "output_type": "stream",
          "text": [
            "Rozwiązanie funkcją wbudowaną fsolve: \n",
            "x = (0.8815925944959473, 0.21359471457166046)\n"
          ]
        }
      ],
      "source": [
        "x, y = fsolve(equations, [0.5, 0.0]) # punkt początkowy wybieramy na podstawie wykresu\n",
        "print(f\"Rozwiązanie funkcją wbudowaną fsolve: \\nx = {x, y}\")"
      ]
    },
    {
      "cell_type": "markdown",
      "metadata": {
        "id": "SnmIXpEhTSXB"
      },
      "source": [
        "## zadanie 6\n",
        " Znajdź wszystkie pierwiastki wielomianu\n",
        "$$ \\tag{5} w(x) = x^4 + (5 + i)x^3 − (8 − 5i)x^2 + (30 − 14i)x − 84.$$"
      ]
    },
    {
      "cell_type": "code",
      "execution_count": 163,
      "metadata": {
        "id": "g6m2n3KXT5y3"
      },
      "outputs": [],
      "source": [
        "def w(x):\n",
        "  return x**4 + (5+1j)*x**3 - (8-5j)*x**2 + (30-14j)*x - 84"
      ]
    },
    {
      "cell_type": "code",
      "execution_count": 218,
      "metadata": {
        "id": "gaAWXyNVhP43"
      },
      "outputs": [],
      "source": [
        "def process_coefficients(coefficients, threshold=1e-5, decimal_places=1):\n",
        "    processed_coeffs = []\n",
        "    for coeff in coefficients:\n",
        "        # Jeżeli wartość jest mniejsza niż threshold, traktujemy ją jako zero\n",
        "        if abs(coeff) < threshold:\n",
        "            processed_coeffs.append(0)\n",
        "        else:\n",
        "            # Jeśli współczynnik jest liczbą zespoloną\n",
        "            if isinstance(coeff, complex):\n",
        "                real_part = round(coeff.real, decimal_places)\n",
        "                imag_part = round(coeff.imag, decimal_places)\n",
        "                processed_coeffs.append(complex(real_part, imag_part))\n",
        "            else:\n",
        "                # Zaokrąglamy liczbę rzeczywistą\n",
        "                processed_coeffs.append(round(coeff, decimal_places))\n",
        "\n",
        "    return processed_coeffs\n"
      ]
    },
    {
      "cell_type": "code",
      "execution_count": 219,
      "metadata": {
        "id": "omcrwMQMTUFa"
      },
      "outputs": [],
      "source": [
        "import cmath\n",
        "from random import random\n",
        "\n",
        "def evalPoly(a,x):\n",
        "    n = len(a) - 1\n",
        "    p = a[n]\n",
        "    dp = 0.0 + 0.0j\n",
        "    ddp = 0.0 + 0.0j\n",
        "    for i in range(1,n+1):\n",
        "        ddp = ddp*x + 2.0*dp\n",
        "        dp = dp*x + p\n",
        "        p = p*x + a[n-i]\n",
        "    return p,dp,ddp\n",
        "\n",
        "def polyRoots(a,tol=1.0e-12):\n",
        "\n",
        "    def laguerre(a,tol):\n",
        "        x = random() # Starting value (random number)\n",
        "        n = len(a) - 1\n",
        "\n",
        "        for i in range(30):\n",
        "            p,dp,ddp = evalPoly(a,x)\n",
        "            if abs(p) < tol:\n",
        "                return x\n",
        "            g = dp/p\n",
        "            h = g*g - ddp/p\n",
        "            f = cmath.sqrt((n - 1)*(n*h - g*g))\n",
        "            if abs(g + f) > abs(g - f):\n",
        "                dx = n/(g + f)\n",
        "            else:\n",
        "                dx = n/(g - f)\n",
        "            x = x - dx\n",
        "            if abs(dx) < tol:\n",
        "                return x\n",
        "        print('Too many iterations')\n",
        "\n",
        "\n",
        "    def deflPoly(a,root):\n",
        "        # Deflates a polynomial\n",
        "        n = len(a)-1\n",
        "        b = [(0.0 + 0.0j)]*n\n",
        "        b[n-1] = a[n]\n",
        "        for i in range(n-2,-1,-1):\n",
        "            b[i] = a[i+1] + root*b[i+1]\n",
        "        return b\n",
        "\n",
        "\n",
        "    n = len(a) - 1\n",
        "    roots = np.zeros((n),dtype=complex)\n",
        "    for i in range(n):\n",
        "        x = laguerre(a,tol)\n",
        "        if abs(x.imag) < tol: x = x.real\n",
        "        roots[i] = x\n",
        "        a = deflPoly(a,x)\n",
        "    return roots"
      ]
    },
    {
      "cell_type": "code",
      "execution_count": 277,
      "metadata": {
        "colab": {
          "base_uri": "https://localhost:8080/",
          "height": 0
        },
        "id": "E8iGiK35UKTZ",
        "outputId": "a71a2565-f997-4d66-de45-d63c030fc3d9"
      },
      "outputs": [
        {
          "name": "stdout",
          "output_type": "stream",
          "text": [
            "Pierwiastki tego wielomianu to:\n",
            " [ 2.00000000e+00+0.j  9.72685203e-16+2.j  0.00000000e+00-3.j\n",
            " -7.00000000e+00+0.j]\n",
            "pierwiastki zaokrąglone:\n",
            "[(2+0j), 2j, -3j, (-7+0j)]\n"
          ]
        }
      ],
      "source": [
        "c = np.array([-84.0, 30.0-14.0j, -8.0+5.0j, (5.0+1.0j), 1.0])\n",
        "roots2 = polyRoots(c)\n",
        "print('Pierwiastki tego wielomianu to:\\n',roots2)\n",
        "processed_coefficients2 = process_coefficients(roots2)\n",
        "print(f\"pierwiastki zaokrąglone:\\n{processed_coefficients2}\")"
      ]
    },
    {
      "cell_type": "code",
      "execution_count": 276,
      "metadata": {
        "colab": {
          "base_uri": "https://localhost:8080/",
          "height": 0
        },
        "id": "3GEJ0v_ZtIWb",
        "outputId": "d77f8cec-69fd-4e59-b852-5efa4eff9fe4"
      },
      "outputs": [
        {
          "name": "stdout",
          "output_type": "stream",
          "text": [
            "Rozwiązanie funkcją wbudowaną roots: \n",
            "pierwiastki: [-7.00000000e+00+0.00000000e+00j -7.53578532e-16-3.00000000e+00j\n",
            "  2.00000000e+00+7.53147208e-16j  2.99582890e-16+2.00000000e+00j]\n",
            "Zaokrąglone rozwiązanie funkcją wbudowaną roots: \n",
            "[(-7+0j), (-0-3j), (2+0j), 2j]\n"
          ]
        }
      ],
      "source": [
        "roots_solve = np.roots(c[::-1])\n",
        "print(f\"Rozwiązanie funkcją wbudowaną roots: \\npierwiastki: {roots_solve}\")\n",
        "print(f\"Zaokrąglone rozwiązanie funkcją wbudowaną roots: \\n{process_coefficients(roots_solve)}\")"
      ]
    },
    {
      "cell_type": "markdown",
      "metadata": {
        "id": "MPKPWAeYtdRl"
      },
      "source": [
        "Pierwiastki obliczone przez WolframAlpha: \\\\\n",
        "`2, 2i, -3i, -7`\n"
      ]
    }
  ],
  "metadata": {
    "colab": {
      "provenance": []
    },
    "kernelspec": {
      "display_name": "Python 3",
      "language": "python",
      "name": "python3"
    },
    "language_info": {
      "codemirror_mode": {
        "name": "ipython",
        "version": 3
      },
      "file_extension": ".py",
      "mimetype": "text/x-python",
      "name": "python",
      "nbconvert_exporter": "python",
      "pygments_lexer": "ipython3",
      "version": "3.11.9"
    }
  },
  "nbformat": 4,
  "nbformat_minor": 0
}
