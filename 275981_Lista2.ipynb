{
  "cells": [
    {
      "cell_type": "markdown",
      "metadata": {
        "id": "M8VXMXMw9FUd"
      },
      "source": [
        "# Lista 2"
      ]
    },
    {
      "cell_type": "code",
      "execution_count": 1,
      "metadata": {
        "id": "9iXMpDHh9Sut"
      },
      "outputs": [],
      "source": [
        "import numpy as np\n",
        "from scipy import linalg"
      ]
    },
    {
      "cell_type": "code",
      "execution_count": 2,
      "metadata": {
        "id": "ddhgatmx-nsj"
      },
      "outputs": [],
      "source": [
        "def eliminacja_gaussa_z_wyborem(A, b):\n",
        "  n = len(b)\n",
        "  x = np.zeros(n)\n",
        "\n",
        "  # Eliminacja współczynników\n",
        "  for k in range(n-1):\n",
        "    # Wybór elementu podstawowego\n",
        "    max_index = k + np.argmax(np.abs(A[k:, k]))\n",
        "    if max_index != k:\n",
        "      A[[k, max_index]] = A[[max_index, k]]\n",
        "      b[[k, max_index]] = b[[max_index, k]]\n",
        "\n",
        "    for i in range(k+1, n):\n",
        "      factor = A[i, k] / A[k, k]\n",
        "      A[i, k:] -= factor * A[k, k:]\n",
        "      b[i] -= factor * b[k]\n",
        "\n",
        "  # Podstawianie wstecz\n",
        "  x[n-1] = b[n-1] / A[n-1, n-1]\n",
        "  for i in range(n-2, -1, -1):\n",
        "    x[i] = (b[i] - np.dot(A[i, i+1:], x[i+1:])) / A[i, i]\n",
        "\n",
        "  return x"
      ]
    },
    {
      "cell_type": "markdown",
      "metadata": {
        "id": "-BZIlbOD9OYG"
      },
      "source": [
        "## zadanie 4"
      ]
    },
    {
      "cell_type": "code",
      "execution_count": 3,
      "metadata": {
        "colab": {
          "base_uri": "https://localhost:8080/"
        },
        "id": "ebZ7Jjl67xkm",
        "outputId": "2ddbbfe8-b56a-4828-c13a-12ecc2dece1d"
      },
      "outputs": [
        {
          "data": {
            "text/plain": [
              "array([ 2., -2.,  1.,  1., -1.])"
            ]
          },
          "execution_count": 3,
          "metadata": {},
          "output_type": "execute_result"
        }
      ],
      "source": [
        "A = np.array([[0,0,2,1,2], \n",
        "              [0,1,0,2,-1,],\n",
        "              [1,2,0,-2,0],\n",
        "              [0,0,0,-1,1],\n",
        "              [0,1,-1,1,-1]], dtype=float)\n",
        "b4 = np.array([[1], [1], [-4], [-2], [-1]], dtype=float) # do rozwiązania funkcją wbudowaną\n",
        "b = np.array([1, 1, -4, -2, -1], dtype=float) # do rozwiązania zaimplementowaną funkcją\n",
        "x4 = np.linalg.solve(A, b) # sprawdzamy wynik dla funkcji wbudowanej\n",
        "x4"
      ]
    },
    {
      "cell_type": "code",
      "execution_count": 4,
      "metadata": {
        "colab": {
          "base_uri": "https://localhost:8080/"
        },
        "id": "NKpzDAXSA-jx",
        "outputId": "e4994311-8bb6-4aea-d2a5-6788bb696ccb"
      },
      "outputs": [
        {
          "data": {
            "text/plain": [
              "array([ 2., -2.,  1.,  1., -1.])"
            ]
          },
          "execution_count": 4,
          "metadata": {},
          "output_type": "execute_result"
        }
      ],
      "source": [
        "x = eliminacja_gaussa_z_wyborem(A,b) # porównujemy z funkcją zaimplementowaną\n",
        "x"
      ]
    },
    {
      "cell_type": "markdown",
      "metadata": {},
      "source": [
        "Jak widzimy, obie funkcje (wbudowana i zaimplentowana) dają takie same rozwiązanie."
      ]
    },
    {
      "cell_type": "markdown",
      "metadata": {
        "id": "3q2pybHi9PBB"
      },
      "source": [
        "## zadanie 5"
      ]
    },
    {
      "cell_type": "code",
      "execution_count": 5,
      "metadata": {
        "colab": {
          "base_uri": "https://localhost:8080/"
        },
        "id": "93FyBPpMBbQ9",
        "outputId": "c829151e-8a9e-401f-8ce3-b89e332da970"
      },
      "outputs": [
        {
          "name": "stdout",
          "output_type": "stream",
          "text": [
            "Wielomian:\n",
            "y = -1.0 + 13.933333333333337 * x + -12.350000000000001 * x^2 + 3.7666666666666666 * x^3 + -0.35000000000000003 * x^4\n"
          ]
        }
      ],
      "source": [
        "# Punkty, przez które przechodzi wielomian\n",
        "punkty = np.array([[0, -1], [2, 2], [3, 3], [1, 4], [6, -2]], dtype=float)\n",
        "\n",
        "# Macierz współczynników i wektor wyrazów wolnych\n",
        "A = np.zeros((5, 5))\n",
        "b = punkty[:, 1]\n",
        "# wpisujemy punkty, przez które przechodzi wielomian jako macierz\n",
        "for i in range(5):\n",
        "  for j in range(5):\n",
        "    A[i, j] = punkty[i, 0]**j\n",
        "\n",
        "# Rozwiązanie układu równań\n",
        "wspolczynniki = eliminacja_gaussa_z_wyborem(A.copy(), b.copy())\n",
        "\n",
        "# Wypisanie wielomianu\n",
        "print(\"Wielomian:\")\n",
        "print(\"y =\", wspolczynniki[0], \"+\", wspolczynniki[1], \"* x +\", wspolczynniki[2], \"* x^2 +\", wspolczynniki[3], \"* x^3 +\", wspolczynniki[4], \"* x^4\")"
      ]
    },
    {
      "cell_type": "code",
      "execution_count": 7,
      "metadata": {
        "colab": {
          "base_uri": "https://localhost:8080/"
        },
        "id": "nVokXk2XEdZY",
        "outputId": "85728e73-3fd0-4160-d8af-16531ae2ed1d"
      },
      "outputs": [
        {
          "name": "stdout",
          "output_type": "stream",
          "text": [
            "-1.0 2.000000000000001 3.000000000000007 4.000000000000003 -2.0\n"
          ]
        }
      ],
      "source": [
        "# sprawdzamy, czy wielomian jest odpowiedni (+/- błędy numeryczne)\n",
        "def y(x):\n",
        "  return -1.0 + 13.933333333333337 * x + -12.350000000000001 * x**2 + 3.7666666666666666 * x**3 + -0.35000000000000003 * x**4\n",
        "print(y(0), y(2), y(3), y(1), y(6))"
      ]
    },
    {
      "cell_type": "markdown",
      "metadata": {},
      "source": [
        "Punkty podane w poleceniu pokrywają się z wyliczonymi zaimplementowanym wielomianem (oprócz błędów numerycznych)."
      ]
    },
    {
      "cell_type": "code",
      "execution_count": 14,
      "metadata": {},
      "outputs": [
        {
          "data": {
            "text/plain": [
              "array([ -1.        ,  13.93333333, -12.35      ,   3.76666667,\n",
              "        -0.35      ])"
            ]
          },
          "execution_count": 14,
          "metadata": {},
          "output_type": "execute_result"
        }
      ],
      "source": [
        "x5 = np.linalg.solve(A.copy(), b.copy())\n",
        "x5"
      ]
    },
    {
      "cell_type": "markdown",
      "metadata": {},
      "source": [
        "Takie same (w przybliżeniu) wyniki uzyskujemy korzystając z wbudowanej funkcji.\n"
      ]
    },
    {
      "cell_type": "markdown",
      "metadata": {
        "id": "sbZ3ZbMGCsUQ"
      },
      "source": [
        "## zadanie 6"
      ]
    },
    {
      "cell_type": "code",
      "execution_count": 18,
      "metadata": {
        "colab": {
          "base_uri": "https://localhost:8080/"
        },
        "id": "bSxMWWxTB1TX",
        "outputId": "baef0817-325e-47a1-ccc5-0ee1f7f9aeee"
      },
      "outputs": [
        {
          "name": "stdout",
          "output_type": "stream",
          "text": [
            "Rozwiązanie x:\n",
            " [1. 1. 1. 1.] \n",
            "Rozwiązanie funkcją wbudowaną:\n",
            " [1. 1. 1. 1.]\n",
            "Det(A): 0.22579734000000876\n",
            "Dokładność Ax ≈ b: \n",
            " [ 7.31000000e+00  1.32860857e+01 -3.24001100e+00 -4.69032638e-03] ≈\n",
            " [ 7.31000000e+00  1.32860857e+01 -3.24001100e+00 -4.69032638e-03]\n",
            "różnica: [8.8817842e-16 0.0000000e+00 0.0000000e+00 0.0000000e+00]\n"
          ]
        }
      ],
      "source": [
        "A = np.array([[3.50, 2.77, -0.76, 1.80],\n",
        "             [-1.80, 2.68, 3.44, -0.09],\n",
        "             [0.27, 5.07, 6.90, 1.61],\n",
        "             [1.71, 5.45, 2.68, 1.71]], dtype = float)\n",
        "b = np.array([7.31, 4.23, 13.85, 11.55], dtype = float)\n",
        "x = eliminacja_gaussa_z_wyborem(A, b)\n",
        "x6 = np.linalg.solve(A.copy(), b.copy())\n",
        "det_A6 = np.linalg.det(A)\n",
        "Ax6 = np.dot(A, x)\n",
        "\n",
        "print('Rozwiązanie x:\\n', x, '\\nRozwiązanie funkcją wbudowaną:\\n', x6)\n",
        "print(\"Det(A):\", det_A6)\n",
        "print(\"Dokładność Ax ≈ b: \\n\", Ax6, \"≈\\n\", b)\n",
        "print(f\"różnica: {Ax6 - b}\")"
      ]
    },
    {
      "cell_type": "markdown",
      "metadata": {},
      "source": [
        "Rozwiązanie jest bardzo dokładne - widzimy różnicę rzędu $10^{-16}$."
      ]
    },
    {
      "cell_type": "markdown",
      "metadata": {
        "id": "havQhf4-CwiO"
      },
      "source": [
        "## zadanie 7"
      ]
    },
    {
      "cell_type": "code",
      "execution_count": 37,
      "metadata": {
        "colab": {
          "base_uri": "https://localhost:8080/"
        },
        "id": "TaRVzY-nCvXm",
        "outputId": "e0c58190-7e1a-4d2c-c387-eb3d6655aa0c"
      },
      "outputs": [
        {
          "data": {
            "text/plain": [
              "array([-1.,  1., -1.,  1., -1.,  1., -1.,  1.])"
            ]
          },
          "execution_count": 37,
          "metadata": {},
          "output_type": "execute_result"
        }
      ],
      "source": [
        "A = np.array([[10,-2,-1, 2, 3, 1,-4, 7],\n",
        "              [5, 11, 3,10,-3, 3, 3,-4],\n",
        "              [7, 12, 1, 5, 3,-12,2, 3],\n",
        "              [8, 7, -2, 1, 3, 2, 2, 4],\n",
        "              [2,-15,-1, 1, 4,-1, 8, 3],\n",
        "              [4,  2, 9, 1,12,-1, 4, 1],\n",
        "              [-1, 4, -7, -1, 1, 1, -1, -3],\n",
        "              [-1, 3, 4, 1, 3, -4, 7, 6]], dtype = float)\n",
        "x = np.array([[0], [12], [-5], [3], [-25], [-26], [9], [-7]], dtype = float)\n",
        "x7 = np.array([0, 12, -5, 3, -25, -26, 9, -7], dtype = float)\n",
        "eliminacja_gaussa_z_wyborem(A, x7)"
      ]
    },
    {
      "cell_type": "markdown",
      "metadata": {},
      "source": [
        "Sprawdzając ręcznie widzimy, że rozwiązanie jest poprawne."
      ]
    },
    {
      "cell_type": "markdown",
      "metadata": {
        "id": "7P9FN1jLDzm1"
      },
      "source": [
        "## zadanie 8"
      ]
    },
    {
      "cell_type": "code",
      "execution_count": 50,
      "metadata": {},
      "outputs": [],
      "source": [
        "def inverse_matrix(A, tol = 1e-10):\n",
        "    det = np.linalg.det(A)\n",
        "    if not np.isclose(det, 0, atol=tol):\n",
        "        I = np.eye(A.shape[0])\n",
        "        return np.column_stack([eliminacja_gaussa_z_wyborem(A.copy(), I[:, i]) for i in range(len(I[1]))])\n",
        "    else:\n",
        "        print(\"Macierz nie jest odwracalna (wyznacznik ≈ 0 w zadanej tolerancji).\")\n",
        "        return False\n",
        "    "
      ]
    },
    {
      "cell_type": "code",
      "execution_count": 52,
      "metadata": {
        "colab": {
          "base_uri": "https://localhost:8080/"
        },
        "id": "t2SNGRQ5D2hd",
        "outputId": "2c1ec9ad-6f41-4248-ac62-f8cf5b73b3c5"
      },
      "outputs": [
        {
          "name": "stdout",
          "output_type": "stream",
          "text": [
            "[[0.84 0.68 0.52 0.36 0.2  0.04]\n",
            " [0.68 1.36 1.04 0.72 0.4  0.08]\n",
            " [0.52 1.04 1.56 1.08 0.6  0.12]\n",
            " [0.36 0.72 1.08 1.44 0.8  0.16]\n",
            " [0.2  0.4  0.6  0.8  1.   0.2 ]\n",
            " [0.04 0.08 0.12 0.16 0.2  0.24]]\n"
          ]
        }
      ],
      "source": [
        "A = np.array([[2, -1, 0, 0, 0, 0],\n",
        "              [-1, 2, -1, 0, 0, 0],\n",
        "              [0, -1, 2, -1, 0, 0],\n",
        "              [0, 0, -1, 2, -1, 0],\n",
        "              [0, 0, 0, -1, 2, -1],\n",
        "              [0, 0, 0, 0, -1, 5]], dtype = float)\n",
        "\n",
        "# bierzemy pod uwagę układ równań A*x_i = i-ta kolumna macierzy I\n",
        "# rozwiązujemy zadanie w etapach, obliczając każdą kolumnę osobno i potem łącząc kolumny w macierz\n",
        "A_inv = inverse_matrix(A)\n",
        "print(A_inv)"
      ]
    },
    {
      "cell_type": "code",
      "execution_count": 43,
      "metadata": {
        "colab": {
          "base_uri": "https://localhost:8080/"
        },
        "id": "rPyKIUuqJSLW",
        "outputId": "47904692-3586-485c-d4cc-b916cbcfd81e"
      },
      "outputs": [
        {
          "data": {
            "text/plain": [
              "array([[ 1.,  0.,  0.,  0.,  0.,  0.],\n",
              "       [ 0.,  1., -0.,  0.,  0.,  0.],\n",
              "       [-0., -0.,  1.,  0.,  0., -0.],\n",
              "       [ 0.,  0., -0.,  1.,  0.,  0.],\n",
              "       [-0., -0.,  0.,  0.,  1.,  0.],\n",
              "       [-0., -0.,  0., -0., -0.,  1.]])"
            ]
          },
          "execution_count": 43,
          "metadata": {},
          "output_type": "execute_result"
        }
      ],
      "source": [
        "np.round(A @ A_inv, decimals=3)"
      ]
    },
    {
      "cell_type": "markdown",
      "metadata": {},
      "source": [
        "Jak widać, dostajemy macierz odwrotną i sprawdzając $A A^{-1}$ ostrzymujemy $I$ (bierzemy poprawkę na błędy numeryczne - w macierzy odwrotnej występują problematyczne ułamki)."
      ]
    },
    {
      "cell_type": "markdown",
      "metadata": {},
      "source": [
        "Sprawdzamy trójdiagonalność - patrząc na macierz $A^{-1}$ możemy stwierdzić, że nie jest trójdiagonalna. Drugim spodobem jest napisanie funkcji w pythonie."
      ]
    },
    {
      "cell_type": "code",
      "execution_count": 42,
      "metadata": {
        "colab": {
          "base_uri": "https://localhost:8080/"
        },
        "id": "XQS7usyyJmzX",
        "outputId": "7093cd4e-8612-4acf-8c69-da8f6cdd478d"
      },
      "outputs": [
        {
          "name": "stdout",
          "output_type": "stream",
          "text": [
            "Czy macierz A^-1 jest trójdiagonalna? False\n",
            "Czy macierz A jest trójdiagonalna? True\n"
          ]
        }
      ],
      "source": [
        "def is_tridiagonal(A, tol=1e-10): # tolerancja błędu dla błędów numerycznych\n",
        "    n = A.shape[0]\n",
        "    for i in range(n):\n",
        "        for j in range(n):\n",
        "            # sprawdzamy tylko elementy poza główną przekątną i sąsiadującymi przekątnymi\n",
        "            if abs(i - j) > 1 and not np.isclose(A[i, j], 0, atol=tol):\n",
        "                return False\n",
        "    return True\n",
        "print(\"Czy macierz A^-1 jest trójdiagonalna?\", is_tridiagonal(A_inv))\n",
        "print(\"Czy macierz A jest trójdiagonalna?\", is_tridiagonal(A))"
      ]
    },
    {
      "cell_type": "markdown",
      "metadata": {},
      "source": [
        "Mimo, że macierz $A$ jest trójdiagonalna, macierz odwrotna ($A^{-1}$) nie ma takich właściwości."
      ]
    },
    {
      "cell_type": "markdown",
      "metadata": {
        "id": "OxKkK4qbEPWF"
      },
      "source": [
        "## zadanie 9"
      ]
    },
    {
      "cell_type": "code",
      "execution_count": 55,
      "metadata": {
        "id": "TjK62Fg_EMQv"
      },
      "outputs": [
        {
          "name": "stdout",
          "output_type": "stream",
          "text": [
            "Macierz nie jest odwracalna (wyznacznik ≈ 0 w zadanej tolerancji).\n",
            "False\n"
          ]
        }
      ],
      "source": [
        "A = np.array([\n",
        "    [1, 3, -9, 6, 4],\n",
        "    [2, -1, 6, 7, 1],\n",
        "    [3, 2, -3, 15, 5],\n",
        "    [8, -1, 1, 4, 2],\n",
        "    [11, 1, -2, 18, 7]\n",
        "], dtype=float)\n",
        "I = np.eye(A.shape[0])\n",
        "A_inv = inverse_matrix(A)\n",
        "print(A_inv)"
      ]
    },
    {
      "cell_type": "markdown",
      "metadata": {
        "id": "61-q9qIQN3BH"
      },
      "source": [
        "Wyznacznik jest równy lub bliski zera → macierz jest nieodwracalna, lub źle uwarunkowana - wtedy nawet jeśli obliczymy macierz \"odwrotną\", $AA^{-1} \\neq I$"
      ]
    },
    {
      "cell_type": "code",
      "execution_count": 56,
      "metadata": {},
      "outputs": [
        {
          "data": {
            "text/plain": [
              "array([[ 0.  ,  1.  ,  1.  ,  0.  ,  0.  ],\n",
              "       [ 0.  ,  0.25, -0.25,  0.  ,  0.  ],\n",
              "       [-1.  ,  0.25,  2.25,  0.  ,  0.  ],\n",
              "       [-1.  , -0.5 ,  0.  ,  1.  , -1.  ],\n",
              "       [-1.  ,  0.75,  0.75,  0.  ,  0.  ]])"
            ]
          },
          "execution_count": 56,
          "metadata": {},
          "output_type": "execute_result"
        }
      ],
      "source": [
        "A_inv = np.column_stack([eliminacja_gaussa_z_wyborem(A.copy(), I[:, i].copy()) for i in range(len(I[0]))])\n",
        "A@A_inv"
      ]
    },
    {
      "cell_type": "markdown",
      "metadata": {},
      "source": [
        "Jak widzimy, obliczona na siłę macierz \"odwrotna\", nie jest prawdziwą macierzą $A^{-1}$, jakość rozwiązania naszego problemu pozostawia wiele do życzenia."
      ]
    }
  ],
  "metadata": {
    "colab": {
      "provenance": []
    },
    "kernelspec": {
      "display_name": "Python 3",
      "name": "python3"
    },
    "language_info": {
      "codemirror_mode": {
        "name": "ipython",
        "version": 3
      },
      "file_extension": ".py",
      "mimetype": "text/x-python",
      "name": "python",
      "nbconvert_exporter": "python",
      "pygments_lexer": "ipython3",
      "version": "3.11.9"
    }
  },
  "nbformat": 4,
  "nbformat_minor": 0
}
