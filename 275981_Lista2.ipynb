{
  "nbformat": 4,
  "nbformat_minor": 0,
  "metadata": {
    "colab": {
      "provenance": []
    },
    "kernelspec": {
      "name": "python3",
      "display_name": "Python 3"
    },
    "language_info": {
      "name": "python"
    }
  },
  "cells": [
    {
      "cell_type": "markdown",
      "source": [
        "# Lista 2"
      ],
      "metadata": {
        "id": "M8VXMXMw9FUd"
      }
    },
    {
      "cell_type": "code",
      "source": [
        "import numpy as np\n",
        "from scipy import linalg"
      ],
      "metadata": {
        "id": "9iXMpDHh9Sut"
      },
      "execution_count": 1,
      "outputs": []
    },
    {
      "cell_type": "code",
      "source": [
        "def eliminacja_gaussa_z_wyborem(A, b):\n",
        "  n = len(b)\n",
        "  x = np.zeros(n)\n",
        "\n",
        "  # Eliminacja współczynników\n",
        "  for k in range(n-1):\n",
        "    # Wybór elementu podstawowego\n",
        "    max_index = k + np.argmax(np.abs(A[k:, k]))\n",
        "    if max_index != k:\n",
        "      A[[k, max_index]] = A[[max_index, k]]\n",
        "      b[[k, max_index]] = b[[max_index, k]]\n",
        "\n",
        "    for i in range(k+1, n):\n",
        "      factor = A[i, k] / A[k, k]\n",
        "      A[i, k:] -= factor * A[k, k:]\n",
        "      b[i] -= factor * b[k]\n",
        "\n",
        "  # Podstawianie wstecz\n",
        "  x[n-1] = b[n-1] / A[n-1, n-1]\n",
        "  for i in range(n-2, -1, -1):\n",
        "    x[i] = (b[i] - np.dot(A[i, i+1:], x[i+1:])) / A[i, i]\n",
        "\n",
        "  return x"
      ],
      "metadata": {
        "id": "ddhgatmx-nsj"
      },
      "execution_count": 2,
      "outputs": []
    },
    {
      "cell_type": "markdown",
      "source": [
        "## zadanie 4"
      ],
      "metadata": {
        "id": "-BZIlbOD9OYG"
      }
    },
    {
      "cell_type": "code",
      "execution_count": 35,
      "metadata": {
        "colab": {
          "base_uri": "https://localhost:8080/"
        },
        "id": "ebZ7Jjl67xkm",
        "outputId": "2ddbbfe8-b56a-4828-c13a-12ecc2dece1d"
      },
      "outputs": [
        {
          "output_type": "execute_result",
          "data": {
            "text/plain": [
              "array([[ 2.],\n",
              "       [-2.],\n",
              "       [ 1.],\n",
              "       [ 1.],\n",
              "       [-1.]])"
            ]
          },
          "metadata": {},
          "execution_count": 35
        }
      ],
      "source": [
        "A = np.array([[0,0,2,1,2], [0,1,0,2,-1,],[1,2,0,-2,0],[0,0,0,-1,1],[0,1,-1,1,-1]], dtype=float)\n",
        "b = np.array([[1], [1], [-4], [-2], [-1]], dtype=float)\n",
        "b4 = np.array([1, 1, -4, -2, -1], dtype=float)\n",
        "x4 = np.linalg.solve(A, b4)\n",
        "x = np.linalg.solve(A, b)\n",
        "x"
      ]
    },
    {
      "cell_type": "code",
      "source": [
        "x4 = eliminacja_gaussa_z_wyborem(A,b4)\n",
        "print(x4)"
      ],
      "metadata": {
        "colab": {
          "base_uri": "https://localhost:8080/"
        },
        "id": "NKpzDAXSA-jx",
        "outputId": "e4994311-8bb6-4aea-d2a5-6788bb696ccb"
      },
      "execution_count": 36,
      "outputs": [
        {
          "output_type": "stream",
          "name": "stdout",
          "text": [
            "[ 2. -2.  1.  1. -1.]\n"
          ]
        }
      ]
    },
    {
      "cell_type": "markdown",
      "source": [
        "## zadanie 5"
      ],
      "metadata": {
        "id": "3q2pybHi9PBB"
      }
    },
    {
      "cell_type": "code",
      "source": [
        "# Punkty, przez które przechodzi wielomian\n",
        "punkty = np.array([[0, -1], [2, 2], [3, 3], [1, 4], [6, -2]], dtype=float)\n",
        "\n",
        "# Macierz współczynników i wektor wyrazów wolnych\n",
        "A = np.zeros((5, 5))\n",
        "b = punkty[:, 1]\n",
        "for i in range(5):\n",
        "  for j in range(5):\n",
        "    A[i, j] = punkty[i, 0]**j\n",
        "\n",
        "# Rozwiązanie układu równań\n",
        "wspolczynniki = eliminacja_gaussa_z_wyborem(A.copy(), b.copy())\n",
        "\n",
        "# Wypisanie wielomianu\n",
        "print(\"Wielomian:\")\n",
        "print(\"y =\", wspolczynniki[0], \"+\", wspolczynniki[1], \"* x +\", wspolczynniki[2], \"* x^2 +\", wspolczynniki[3], \"* x^3 +\", wspolczynniki[4], \"* x^4\")"
      ],
      "metadata": {
        "id": "93FyBPpMBbQ9",
        "outputId": "c829151e-8a9e-401f-8ce3-b89e332da970",
        "colab": {
          "base_uri": "https://localhost:8080/"
        }
      },
      "execution_count": 15,
      "outputs": [
        {
          "output_type": "stream",
          "name": "stdout",
          "text": [
            "Wielomian:\n",
            "y = -1.0 + 13.933333333333337 * x + -12.350000000000001 * x^2 + 3.7666666666666666 * x^3 + -0.35000000000000003 * x^4\n"
          ]
        }
      ]
    },
    {
      "cell_type": "code",
      "source": [
        "def y(x):\n",
        "  return -1.0 + 13.933333333333337 * x + -12.350000000000001 * x**2 + 3.7666666666666666 * x**3 + -0.35000000000000003 * x**4\n",
        "print(y(0), y(2), y(3), y(1), y(6))"
      ],
      "metadata": {
        "colab": {
          "base_uri": "https://localhost:8080/"
        },
        "id": "nVokXk2XEdZY",
        "outputId": "85728e73-3fd0-4160-d8af-16531ae2ed1d"
      },
      "execution_count": 27,
      "outputs": [
        {
          "output_type": "stream",
          "name": "stdout",
          "text": [
            "-1.0 2.000000000000001 3.000000000000007 4.000000000000003 -2.0\n"
          ]
        }
      ]
    },
    {
      "cell_type": "code",
      "source": [
        "A5 = np.array([[x**i for i in range(5)] for x, _ in punkty], dtype=float)\n",
        "b5 = punkty[:, 1]\n",
        "\n",
        "wspolczynniki2 = eliminacja_gaussa_z_wyborem(A5, b5)\n",
        "print(\"Zadanie 5 - Współczynniki wielomianu:\", wspolczynniki2)"
      ],
      "metadata": {
        "colab": {
          "base_uri": "https://localhost:8080/"
        },
        "id": "-yKQfyS7-ebZ",
        "outputId": "b7de1b80-40b4-4424-98a1-550f750feb37"
      },
      "execution_count": 16,
      "outputs": [
        {
          "output_type": "stream",
          "name": "stdout",
          "text": [
            "Zadanie 5 - Współczynniki wielomianu: [ -1.          13.93333333 -12.35         3.76666667  -0.35      ]\n"
          ]
        }
      ]
    },
    {
      "cell_type": "markdown",
      "source": [
        "## zadanie 6"
      ],
      "metadata": {
        "id": "sbZ3ZbMGCsUQ"
      }
    },
    {
      "cell_type": "code",
      "source": [
        "A = np.array([[3.50, 2.77, -0.76, 1.80],\n",
        "             [-1.80, 2.68, 3.44, -0.09],\n",
        "             [0.27, 5.07, 6.90, 1.61],\n",
        "             [1.71, 5.45, 2.68, 1.71]], dtype = float)\n",
        "b = np.array([7.31, 4.23, 13.85, 11.55], dtype = float)\n",
        "x6 = eliminacja_gaussa_z_wyborem(A, b)\n",
        "det_A6 = np.linalg.det(A)\n",
        "Ax6 = np.dot(A, x6)\n",
        "\n",
        "print('Rozwiązanie x:', x6)\n",
        "print(\"Det(A):\", det_A6)\n",
        "print(\"Dokładność Ax ≈ b:\", Ax6, \"≈\", b)\n",
        "print(f\"różnica: {Ax6 - b}\")"
      ],
      "metadata": {
        "id": "bSxMWWxTB1TX",
        "colab": {
          "base_uri": "https://localhost:8080/"
        },
        "outputId": "baef0817-325e-47a1-ccc5-0ee1f7f9aeee"
      },
      "execution_count": 26,
      "outputs": [
        {
          "output_type": "stream",
          "name": "stdout",
          "text": [
            "Rozwiązanie x: [1. 1. 1. 1.]\n",
            "Det(A): 0.22579734000000876\n",
            "Dokładność Ax ≈ b: [ 7.31000000e+00  1.32860857e+01 -3.24001100e+00 -4.69032638e-03] ≈ [ 7.31000000e+00  1.32860857e+01 -3.24001100e+00 -4.69032638e-03]\n",
            "różnica: [8.8817842e-16 0.0000000e+00 0.0000000e+00 0.0000000e+00]\n"
          ]
        }
      ]
    },
    {
      "cell_type": "markdown",
      "source": [
        "## zadanie 7"
      ],
      "metadata": {
        "id": "havQhf4-CwiO"
      }
    },
    {
      "cell_type": "code",
      "source": [
        "A = np.array([[10, -2, -1, 2, 3, 1, -4, 7],\n",
        "              [5, 11, 3, 10, -3, 3, 3, -4],\n",
        "              [7, 12, 1, 5, 3, -12, 2, 3],\n",
        "              [8, 7, -2, 1, 3, 2, 2, 4],\n",
        "              [2, -15, -1, 1, 4, -1, 8, 3],\n",
        "              [4, 2, 9, 1, 12, -1, 4, 1],\n",
        "              [-1, 4, -7, -1, 1, 1, -1, -3],\n",
        "              [-1, 3, 4, 1, 3, -4, 7, 6]], dtype = float)\n",
        "x = np.array([[0], [12], [-5], [3], [-25], [-26], [9], [-7]], dtype = float)\n",
        "x7 = np.array([0, 12, -5, 3, -25, -26, 9, -7], dtype = float)\n",
        "eliminacja_gaussa_z_wyborem(A, x7)"
      ],
      "metadata": {
        "id": "TaRVzY-nCvXm",
        "colab": {
          "base_uri": "https://localhost:8080/"
        },
        "outputId": "e0c58190-7e1a-4d2c-c387-eb3d6655aa0c"
      },
      "execution_count": 37,
      "outputs": [
        {
          "output_type": "execute_result",
          "data": {
            "text/plain": [
              "array([-1.,  1., -1.,  1., -1.,  1., -1.,  1.])"
            ]
          },
          "metadata": {},
          "execution_count": 37
        }
      ]
    },
    {
      "cell_type": "markdown",
      "source": [
        "## zadanie 8"
      ],
      "metadata": {
        "id": "7P9FN1jLDzm1"
      }
    },
    {
      "cell_type": "code",
      "source": [
        "A = np.array([[2, -1, 0, 0, 0, 0],\n",
        "              [-1, 2, -1, 0, 0, 0],\n",
        "              [0, -1, 2, -1, 0, 0],\n",
        "              [0, 0, -1, 2, -1, 0],\n",
        "              [0, 0, 0, -1, 2, -1],\n",
        "              [0, 0, 0, 0, -1, 5]], dtype = float)\n",
        "I = np.eye(A.shape[0])\n",
        "print(I)\n",
        "A_inv = np.column_stack([eliminacja_gaussa_z_wyborem(A.copy(), I[:, i].copy()) for i in range(len(I[0]))])\n",
        "A_inv"
      ],
      "metadata": {
        "id": "t2SNGRQ5D2hd",
        "colab": {
          "base_uri": "https://localhost:8080/"
        },
        "outputId": "2c1ec9ad-6f41-4248-ac62-f8cf5b73b3c5"
      },
      "execution_count": 66,
      "outputs": [
        {
          "output_type": "stream",
          "name": "stdout",
          "text": [
            "[[1. 0. 0. 0. 0. 0.]\n",
            " [0. 1. 0. 0. 0. 0.]\n",
            " [0. 0. 1. 0. 0. 0.]\n",
            " [0. 0. 0. 1. 0. 0.]\n",
            " [0. 0. 0. 0. 1. 0.]\n",
            " [0. 0. 0. 0. 0. 1.]]\n"
          ]
        },
        {
          "output_type": "execute_result",
          "data": {
            "text/plain": [
              "array([[0.84, 0.68, 0.52, 0.36, 0.2 , 0.04],\n",
              "       [0.68, 1.36, 1.04, 0.72, 0.4 , 0.08],\n",
              "       [0.52, 1.04, 1.56, 1.08, 0.6 , 0.12],\n",
              "       [0.36, 0.72, 1.08, 1.44, 0.8 , 0.16],\n",
              "       [0.2 , 0.4 , 0.6 , 0.8 , 1.  , 0.2 ],\n",
              "       [0.04, 0.08, 0.12, 0.16, 0.2 , 0.24]])"
            ]
          },
          "metadata": {},
          "execution_count": 66
        }
      ]
    },
    {
      "cell_type": "code",
      "source": [
        "A*A_inv, np.round(A @ A_inv, decimals=2)"
      ],
      "metadata": {
        "colab": {
          "base_uri": "https://localhost:8080/"
        },
        "id": "rPyKIUuqJSLW",
        "outputId": "47904692-3586-485c-d4cc-b916cbcfd81e"
      },
      "execution_count": 67,
      "outputs": [
        {
          "output_type": "execute_result",
          "data": {
            "text/plain": [
              "(array([[ 1.68, -0.68,  0.  ,  0.  ,  0.  ,  0.  ],\n",
              "        [-0.68,  2.72, -1.04,  0.  ,  0.  ,  0.  ],\n",
              "        [ 0.  , -1.04,  3.12, -1.08,  0.  ,  0.  ],\n",
              "        [ 0.  ,  0.  , -1.08,  2.88, -0.8 ,  0.  ],\n",
              "        [ 0.  ,  0.  ,  0.  , -0.8 ,  2.  , -0.2 ],\n",
              "        [ 0.  ,  0.  ,  0.  ,  0.  , -0.2 ,  1.2 ]]),\n",
              " array([[ 1.,  0.,  0.,  0.,  0.,  0.],\n",
              "        [ 0.,  1., -0.,  0.,  0.,  0.],\n",
              "        [-0., -0.,  1.,  0.,  0., -0.],\n",
              "        [ 0.,  0., -0.,  1.,  0.,  0.],\n",
              "        [-0., -0.,  0.,  0.,  1.,  0.],\n",
              "        [-0., -0.,  0., -0., -0.,  1.]]))"
            ]
          },
          "metadata": {},
          "execution_count": 67
        }
      ]
    },
    {
      "cell_type": "code",
      "source": [
        "is_tridiagonal = np.allclose(A_inv, np.triu(np.tril(A_inv, 1), -1))\n",
        "print(\"Czy macierz A^-1 jest trójdiagonalna?\", is_tridiagonal)"
      ],
      "metadata": {
        "colab": {
          "base_uri": "https://localhost:8080/"
        },
        "id": "XQS7usyyJmzX",
        "outputId": "7093cd4e-8612-4acf-8c69-da8f6cdd478d"
      },
      "execution_count": 56,
      "outputs": [
        {
          "output_type": "stream",
          "name": "stdout",
          "text": [
            "Czy macierz A^-1 jest trójdiagonalna? False\n"
          ]
        }
      ]
    },
    {
      "cell_type": "markdown",
      "source": [
        "## zadanie 9"
      ],
      "metadata": {
        "id": "OxKkK4qbEPWF"
      }
    },
    {
      "cell_type": "code",
      "source": [
        "A = np.array([\n",
        "    [1, 3, -9, 6, 4],\n",
        "    [2, -1, 6, 7, 1],\n",
        "    [3, 2, -3, 15, 5],\n",
        "    [8, -1, 1, 4, 2],\n",
        "    [11, 1, -2, 18, 7]\n",
        "], dtype=float)\n",
        "I = np.eye(A.shape[0])\n",
        "A_inv = np.column_stack([eliminacja_gaussa_z_wyborem(A.copy(), I[:, i]) for i in range(len(I[1]))])"
      ],
      "metadata": {
        "id": "TjK62Fg_EMQv"
      },
      "execution_count": 71,
      "outputs": []
    },
    {
      "cell_type": "code",
      "source": [
        "A_inv"
      ],
      "metadata": {
        "colab": {
          "base_uri": "https://localhost:8080/"
        },
        "id": "aR7RtZ35JE_B",
        "outputId": "0ba5364e-bf1a-4561-c589-c985f550b692"
      },
      "execution_count": 72,
      "outputs": [
        {
          "output_type": "execute_result",
          "data": {
            "text/plain": [
              "array([[-7.42166231e+14, -7.42166231e+14, -7.42166231e+14,\n",
              "        -1.48433246e+15,  1.48433246e+15],\n",
              "       [-3.52528960e+15, -3.52528960e+15, -3.52528960e+15,\n",
              "        -7.05057919e+15,  7.05057919e+15],\n",
              "       [-5.90359502e+14, -5.90359502e+14, -5.90359502e+14,\n",
              "        -1.18071900e+15,  1.18071900e+15],\n",
              "       [-0.00000000e+00, -0.00000000e+00,  1.00000000e+00,\n",
              "         1.00000000e+00, -1.00000000e+00],\n",
              "       [ 1.50119988e+15,  1.50119988e+15,  1.50119988e+15,\n",
              "         3.00239975e+15, -3.00239975e+15]])"
            ]
          },
          "metadata": {},
          "execution_count": 72
        }
      ]
    },
    {
      "cell_type": "code",
      "source": [
        "A*A_inv, np.round(A @ A_inv, decimals=2)"
      ],
      "metadata": {
        "colab": {
          "base_uri": "https://localhost:8080/"
        },
        "id": "i3bd-vsmLivH",
        "outputId": "5620969b-152b-4cb2-f2c8-eb3e43ed4115"
      },
      "execution_count": 73,
      "outputs": [
        {
          "output_type": "execute_result",
          "data": {
            "text/plain": [
              "(array([[-7.42166231e+14, -2.22649869e+15,  6.67949608e+15,\n",
              "         -8.90599477e+15,  5.93732985e+15],\n",
              "        [-7.05057919e+15,  3.52528960e+15, -2.11517376e+16,\n",
              "         -4.93540543e+16,  7.05057919e+15],\n",
              "        [-1.77107851e+15, -1.18071900e+15,  1.77107851e+15,\n",
              "         -1.77107851e+16,  5.90359502e+15],\n",
              "        [-0.00000000e+00,  0.00000000e+00,  1.00000000e+00,\n",
              "          4.00000000e+00, -2.00000000e+00],\n",
              "        [ 1.65131986e+16,  1.50119988e+15, -3.00239975e+15,\n",
              "          5.40431955e+16, -2.10167983e+16]]),\n",
              " array([[ 0.  ,  1.  ,  1.  ,  0.  ,  0.  ],\n",
              "        [ 0.  ,  0.25, -0.25,  0.  ,  0.  ],\n",
              "        [-1.  ,  0.25,  2.25,  0.  ,  0.  ],\n",
              "        [-1.  , -0.5 ,  0.  ,  1.  , -1.  ],\n",
              "        [-1.  ,  0.75,  0.75,  0.  ,  0.  ]]))"
            ]
          },
          "metadata": {},
          "execution_count": 73
        }
      ]
    },
    {
      "cell_type": "code",
      "source": [
        "np.linalg.det(A)"
      ],
      "metadata": {
        "colab": {
          "base_uri": "https://localhost:8080/"
        },
        "id": "cLon5pObNj6M",
        "outputId": "88d591b9-8fd9-48b6-c712-79c901700c05"
      },
      "execution_count": 75,
      "outputs": [
        {
          "output_type": "execute_result",
          "data": {
            "text/plain": [
              "1.9761969838327938e-14"
            ]
          },
          "metadata": {},
          "execution_count": 75
        }
      ]
    },
    {
      "cell_type": "markdown",
      "source": [
        "Wyznacznik jest bliski zera → macierz jest źle uwarunkowana, dlatego występują znaczne błędy numeryczne w rozwiązaniu."
      ],
      "metadata": {
        "id": "61-q9qIQN3BH"
      }
    },
    {
      "cell_type": "code",
      "source": [],
      "metadata": {
        "id": "xNi-c7tNNup6"
      },
      "execution_count": null,
      "outputs": []
    }
  ]
}