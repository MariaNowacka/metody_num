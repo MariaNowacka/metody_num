{
  "nbformat": 4,
  "nbformat_minor": 0,
  "metadata": {
    "colab": {
      "provenance": []
    },
    "kernelspec": {
      "name": "python3",
      "display_name": "Python 3"
    },
    "language_info": {
      "name": "python"
    }
  },
  "cells": [
    {
      "cell_type": "markdown",
      "source": [
        "# Lista 2"
      ],
      "metadata": {
        "id": "M8VXMXMw9FUd"
      }
    },
    {
      "cell_type": "code",
      "source": [
        "import numpy as np\n",
        "from scipy import linalg"
      ],
      "metadata": {
        "id": "9iXMpDHh9Sut"
      },
      "execution_count": 3,
      "outputs": []
    },
    {
      "cell_type": "code",
      "source": [
        "def eliminacja_gaussa_z_wyborem(A, b):\n",
        "  n = len(b)\n",
        "  x = np.zeros(n)\n",
        "\n",
        "  # Eliminacja współczynników\n",
        "  for k in range(n-1):\n",
        "    # Wybór elementu podstawowego\n",
        "    max_index = k + np.argmax(np.abs(A[k:, k]))\n",
        "    if max_index != k:\n",
        "      A[[k, max_index]] = A[[max_index, k]]\n",
        "      b[[k, max_index]] = b[[max_index, k]]\n",
        "\n",
        "    for i in range(k+1, n):\n",
        "      factor = A[i, k] / A[k, k]\n",
        "      A[i, k:] -= factor * A[k, k:]\n",
        "      b[i] -= factor * b[k]\n",
        "\n",
        "  # Podstawianie wstecz\n",
        "  x[n-1] = b[n-1] / A[n-1, n-1]\n",
        "  for i in range(n-2, -1, -1):\n",
        "    x[i] = (b[i] - np.dot(A[i, i+1:], x[i+1:])) / A[i, i]\n",
        "\n",
        "  return x"
      ],
      "metadata": {
        "id": "ddhgatmx-nsj"
      },
      "execution_count": 4,
      "outputs": []
    },
    {
      "cell_type": "markdown",
      "source": [
        "## zadanie 4"
      ],
      "metadata": {
        "id": "-BZIlbOD9OYG"
      }
    },
    {
      "cell_type": "code",
      "execution_count": 5,
      "metadata": {
        "colab": {
          "base_uri": "https://localhost:8080/"
        },
        "id": "ebZ7Jjl67xkm",
        "outputId": "a367893f-f069-4afe-eaf9-73a912ce2d59"
      },
      "outputs": [
        {
          "output_type": "execute_result",
          "data": {
            "text/plain": [
              "array([[ 2.],\n",
              "       [-2.],\n",
              "       [ 1.],\n",
              "       [ 1.],\n",
              "       [-1.]])"
            ]
          },
          "metadata": {},
          "execution_count": 5
        }
      ],
      "source": [
        "A = np.array([[0,0,2,1,2], [0,1,0,2,-1,],[1,2,0,-2,0],[0,0,0,-1,1],[0,1,-1,1,-1]])\n",
        "b = np.array([[1], [1], [-4], [-2], [-1]])\n",
        "x = np.linalg.solve(A, b)\n",
        "x"
      ]
    },
    {
      "cell_type": "code",
      "source": [
        "eliminacja_gaussa_z_wyborem(A,b)"
      ],
      "metadata": {
        "colab": {
          "base_uri": "https://localhost:8080/",
          "height": 263
        },
        "id": "NKpzDAXSA-jx",
        "outputId": "a4d554d4-09e1-4815-d247-2f704d0ddd02"
      },
      "execution_count": 6,
      "outputs": [
        {
          "output_type": "error",
          "ename": "UFuncTypeError",
          "evalue": "Cannot cast ufunc 'subtract' output from dtype('float64') to dtype('int64') with casting rule 'same_kind'",
          "traceback": [
            "\u001b[0;31m---------------------------------------------------------------------------\u001b[0m",
            "\u001b[0;31mUFuncTypeError\u001b[0m                            Traceback (most recent call last)",
            "\u001b[0;32m<ipython-input-6-714c37838e4f>\u001b[0m in \u001b[0;36m<cell line: 1>\u001b[0;34m()\u001b[0m\n\u001b[0;32m----> 1\u001b[0;31m \u001b[0meliminacja_gaussa_z_wyborem\u001b[0m\u001b[0;34m(\u001b[0m\u001b[0mA\u001b[0m\u001b[0;34m,\u001b[0m\u001b[0mb\u001b[0m\u001b[0;34m)\u001b[0m\u001b[0;34m\u001b[0m\u001b[0;34m\u001b[0m\u001b[0m\n\u001b[0m",
            "\u001b[0;32m<ipython-input-4-d9a3b6f69832>\u001b[0m in \u001b[0;36meliminacja_gaussa_z_wyborem\u001b[0;34m(A, b)\u001b[0m\n\u001b[1;32m     13\u001b[0m     \u001b[0;32mfor\u001b[0m \u001b[0mi\u001b[0m \u001b[0;32min\u001b[0m \u001b[0mrange\u001b[0m\u001b[0;34m(\u001b[0m\u001b[0mk\u001b[0m\u001b[0;34m+\u001b[0m\u001b[0;36m1\u001b[0m\u001b[0;34m,\u001b[0m \u001b[0mn\u001b[0m\u001b[0;34m)\u001b[0m\u001b[0;34m:\u001b[0m\u001b[0;34m\u001b[0m\u001b[0;34m\u001b[0m\u001b[0m\n\u001b[1;32m     14\u001b[0m       \u001b[0mfactor\u001b[0m \u001b[0;34m=\u001b[0m \u001b[0mA\u001b[0m\u001b[0;34m[\u001b[0m\u001b[0mi\u001b[0m\u001b[0;34m,\u001b[0m \u001b[0mk\u001b[0m\u001b[0;34m]\u001b[0m \u001b[0;34m/\u001b[0m \u001b[0mA\u001b[0m\u001b[0;34m[\u001b[0m\u001b[0mk\u001b[0m\u001b[0;34m,\u001b[0m \u001b[0mk\u001b[0m\u001b[0;34m]\u001b[0m\u001b[0;34m\u001b[0m\u001b[0;34m\u001b[0m\u001b[0m\n\u001b[0;32m---> 15\u001b[0;31m       \u001b[0mA\u001b[0m\u001b[0;34m[\u001b[0m\u001b[0mi\u001b[0m\u001b[0;34m,\u001b[0m \u001b[0mk\u001b[0m\u001b[0;34m:\u001b[0m\u001b[0;34m]\u001b[0m \u001b[0;34m-=\u001b[0m \u001b[0mfactor\u001b[0m \u001b[0;34m*\u001b[0m \u001b[0mA\u001b[0m\u001b[0;34m[\u001b[0m\u001b[0mk\u001b[0m\u001b[0;34m,\u001b[0m \u001b[0mk\u001b[0m\u001b[0;34m:\u001b[0m\u001b[0;34m]\u001b[0m\u001b[0;34m\u001b[0m\u001b[0;34m\u001b[0m\u001b[0m\n\u001b[0m\u001b[1;32m     16\u001b[0m       \u001b[0mb\u001b[0m\u001b[0;34m[\u001b[0m\u001b[0mi\u001b[0m\u001b[0;34m]\u001b[0m \u001b[0;34m-=\u001b[0m \u001b[0mfactor\u001b[0m \u001b[0;34m*\u001b[0m \u001b[0mb\u001b[0m\u001b[0;34m[\u001b[0m\u001b[0mk\u001b[0m\u001b[0;34m]\u001b[0m\u001b[0;34m\u001b[0m\u001b[0;34m\u001b[0m\u001b[0m\n\u001b[1;32m     17\u001b[0m \u001b[0;34m\u001b[0m\u001b[0m\n",
            "\u001b[0;31mUFuncTypeError\u001b[0m: Cannot cast ufunc 'subtract' output from dtype('float64') to dtype('int64') with casting rule 'same_kind'"
          ]
        }
      ]
    },
    {
      "cell_type": "code",
      "source": [
        "# Punkty, przez które przechodzi wielomian\n",
        "punkty = np.array([[0, -1], [2, 2], [3, 3], [1, 4], [6, -2]])\n",
        "\n",
        "# Macierz współczynników i wektor wyrazów wolnych\n",
        "A = np.zeros((5, 5))\n",
        "b = punkty[:, 1]\n",
        "for i in range(5):\n",
        "  for j in range(5):\n",
        "    A[i, j] = punkty[i, 0]**j\n",
        "\n",
        "# Rozwiązanie układu równań\n",
        "wspolczynniki = eliminacja_gaussa_z_wyborem(A.copy(), b.copy())\n",
        "\n",
        "# Wypisanie wielomianu\n",
        "print(\"Wielomian:\")\n",
        "print(\"y =\", wspolczynniki, \"+\", wspolczynniki[2], \"* x +\", wspolczynniki[1], \"* x^2 +\", wspolczynniki[3], \"* x^3 +\", wspolczynniki[5], \"* x^4\")"
      ],
      "metadata": {
        "colab": {
          "base_uri": "https://localhost:8080/",
          "height": 193
        },
        "id": "93FyBPpMBbQ9",
        "outputId": "5d740039-7875-469b-e9a8-a0dd0ca0e66d"
      },
      "execution_count": 7,
      "outputs": [
        {
          "output_type": "stream",
          "name": "stdout",
          "text": [
            "Wielomian:\n"
          ]
        },
        {
          "output_type": "error",
          "ename": "IndexError",
          "evalue": "index 5 is out of bounds for axis 0 with size 5",
          "traceback": [
            "\u001b[0;31m---------------------------------------------------------------------------\u001b[0m",
            "\u001b[0;31mIndexError\u001b[0m                                Traceback (most recent call last)",
            "\u001b[0;32m<ipython-input-7-2730b8e0afe8>\u001b[0m in \u001b[0;36m<cell line: 16>\u001b[0;34m()\u001b[0m\n\u001b[1;32m     14\u001b[0m \u001b[0;31m# Wypisanie wielomianu\u001b[0m\u001b[0;34m\u001b[0m\u001b[0;34m\u001b[0m\u001b[0m\n\u001b[1;32m     15\u001b[0m \u001b[0mprint\u001b[0m\u001b[0;34m(\u001b[0m\u001b[0;34m\"Wielomian:\"\u001b[0m\u001b[0;34m)\u001b[0m\u001b[0;34m\u001b[0m\u001b[0;34m\u001b[0m\u001b[0m\n\u001b[0;32m---> 16\u001b[0;31m \u001b[0mprint\u001b[0m\u001b[0;34m(\u001b[0m\u001b[0;34m\"y =\"\u001b[0m\u001b[0;34m,\u001b[0m \u001b[0mwspolczynniki\u001b[0m\u001b[0;34m,\u001b[0m \u001b[0;34m\"+\"\u001b[0m\u001b[0;34m,\u001b[0m \u001b[0mwspolczynniki\u001b[0m\u001b[0;34m[\u001b[0m\u001b[0;36m2\u001b[0m\u001b[0;34m]\u001b[0m\u001b[0;34m,\u001b[0m \u001b[0;34m\"* x +\"\u001b[0m\u001b[0;34m,\u001b[0m \u001b[0mwspolczynniki\u001b[0m\u001b[0;34m[\u001b[0m\u001b[0;36m1\u001b[0m\u001b[0;34m]\u001b[0m\u001b[0;34m,\u001b[0m \u001b[0;34m\"* x^2 +\"\u001b[0m\u001b[0;34m,\u001b[0m \u001b[0mwspolczynniki\u001b[0m\u001b[0;34m[\u001b[0m\u001b[0;36m3\u001b[0m\u001b[0;34m]\u001b[0m\u001b[0;34m,\u001b[0m \u001b[0;34m\"* x^3 +\"\u001b[0m\u001b[0;34m,\u001b[0m \u001b[0mwspolczynniki\u001b[0m\u001b[0;34m[\u001b[0m\u001b[0;36m5\u001b[0m\u001b[0;34m]\u001b[0m\u001b[0;34m,\u001b[0m \u001b[0;34m\"* x^4\"\u001b[0m\u001b[0;34m)\u001b[0m\u001b[0;34m\u001b[0m\u001b[0;34m\u001b[0m\u001b[0m\n\u001b[0m",
            "\u001b[0;31mIndexError\u001b[0m: index 5 is out of bounds for axis 0 with size 5"
          ]
        }
      ]
    },
    {
      "cell_type": "markdown",
      "source": [
        "## zadanie 6"
      ],
      "metadata": {
        "id": "sbZ3ZbMGCsUQ"
      }
    },
    {
      "cell_type": "code",
      "source": [
        "A = np.array([[3.50, 2.77, -0.76, 1.80],\n",
        "             [-1.80, 2.68, 3.44, -0.09],\n",
        "             [0.27, 5.07, 6.90, 1.61],\n",
        "             [1.71, 5.45, 2.68, 1.71]])"
      ],
      "metadata": {
        "id": "bSxMWWxTB1TX"
      },
      "execution_count": null,
      "outputs": []
    },
    {
      "cell_type": "markdown",
      "source": [
        "## zadanie 7"
      ],
      "metadata": {
        "id": "havQhf4-CwiO"
      }
    },
    {
      "cell_type": "code",
      "source": [
        "A = np.array([[10, -2, -1, 2, 3, 1, -4, 7],\n",
        "              [5, 11, 3, 10, -3, 3, 3, -4],\n",
        "              [7, 12, 1, 5, 3, -12, 2, 3],\n",
        "              [8, 7, -2, 1, 3, 2, 2, 4],\n",
        "              [2, -15, -1, 1, 4, -1, 8, 3],\n",
        "              [4, 2, 9, 1, 12, -1, 4, 1],\n",
        "              [-1, 4, -7, -1, 1, 1, -1, -3],\n",
        "              [-1, 3, 4, 1, 3, -4, 7, 6]])\n",
        "x = np.array([[0], [12], [-5], [3], [-25], [-26], [9], [-7]])"
      ],
      "metadata": {
        "id": "TaRVzY-nCvXm"
      },
      "execution_count": null,
      "outputs": []
    },
    {
      "cell_type": "markdown",
      "source": [
        "## zadanie 8"
      ],
      "metadata": {
        "id": "7P9FN1jLDzm1"
      }
    },
    {
      "cell_type": "code",
      "source": [
        "A = np.array([[2, -1, 0, 0, 0, 0],\n",
        "              [-1, 2, -1, 0, 0, 0],\n",
        "              [0, -1, 2, -1, 0, 0],\n",
        "              [0, 0, -1, 2, -1, 0],\n",
        "              [0, 0, 0, -1, 2, -1],\n",
        "              [0, 0, 0, 0, -1, 5]])"
      ],
      "metadata": {
        "id": "t2SNGRQ5D2hd"
      },
      "execution_count": null,
      "outputs": []
    },
    {
      "cell_type": "markdown",
      "source": [
        "## zadanie 9"
      ],
      "metadata": {
        "id": "OxKkK4qbEPWF"
      }
    },
    {
      "cell_type": "code",
      "source": [],
      "metadata": {
        "id": "TjK62Fg_EMQv"
      },
      "execution_count": null,
      "outputs": []
    }
  ]
}