{
 "cells": [
  {
   "cell_type": "markdown",
   "id": "98ef476e-a4ca-4846-b431-c10be57c2b18",
   "metadata": {},
   "source": [
    "# Lista 6\n",
    "Maria Nowacka"
   ]
  },
  {
   "cell_type": "code",
   "execution_count": 131,
   "id": "27a8ec5505d454c4",
   "metadata": {
    "ExecuteTime": {
     "end_time": "2025-01-16T22:53:58.508341Z",
     "start_time": "2025-01-16T22:53:55.604414Z"
    }
   },
   "outputs": [],
   "source": [
    "import numpy as np, matplotlib.pyplot as plt, math, pandas as pd\n",
    "import scipy.integrate as spi"
   ]
  },
  {
   "cell_type": "markdown",
   "id": "2541e002-3d6f-472e-8d7d-0c0a8b89721f",
   "metadata": {},
   "source": [
    "## zadanie 1\n",
    "W tabeli 1 przedstawiona jest moc $P$ przyłożona do kół samochodu jako\n",
    "funkcja prędkości $v$. Zakładając, że masa samochodu m wynosi $2000\\ kg$,\n",
    "wyznacz czas potrzebny do rozpędzenia samochodu od prędkości $1\\ m/s$\n",
    "do $6\\ m/s$. Wskazówka:\n",
    "$$ \\Delta t = m \\int_{v_1}^{v_2} \\frac{v}{P} \\operatorname{d}\\!v $$\n",
    "$$\n",
    "\\def\\arraystretch{1}\n",
    "    \\begin{array}{|l||l|l|l|l|l|l|l|l|}\n",
    "    \\hline \\hline\n",
    "     v\\ (m/s) & 0 & 1,0 & 1,8 & 2,4 & 3,5 & 4,4 & 5,1 & 6,0 \\\\ \\hline\n",
    "     P\\ (kW) & 0 & 4,7 & 12,2 & 19,0 & 31,8 & 40,1 & 43,8 & 43,2  \\\\ \\hline \\hline\n",
    "    \\end{array}\n",
    "$$"
   ]
  },
  {
   "cell_type": "code",
   "execution_count": 51,
   "id": "e3b6fb07-fa05-45ff-9d89-5e1ee5f7209c",
   "metadata": {},
   "outputs": [
    {
     "data": {
      "text/plain": [
       "1.2984952383952837"
      ]
     },
     "execution_count": 51,
     "metadata": {},
     "output_type": "execute_result"
    }
   ],
   "source": [
    "m = 2000\n",
    "vs = np.array([0, 1.0, 1.8, 2.4, 3.5, 4.4, 5.1, 6.0])\n",
    "Ps = np.array([0, 4.7, 12.2, 19.0, 31.8, 40.1, 43.8, 43.2]) * 10**3 \n",
    "f = vs[1:]/Ps[1:]\n",
    "def trapez(x,y):\n",
    "    h = np.diff(x)\n",
    "    return np.sum(h/2*(y[:-1]+y[1:]))\n",
    "    \n",
    "m*trapez(vs[1:],f)"
   ]
  },
  {
   "cell_type": "markdown",
   "id": "f3f6da40-201e-47e3-be2b-d100f74e58d4",
   "metadata": {},
   "source": [
    "## zadanie 2\n",
    "Oblicz całkę\n",
    "$$ \\int_{-1}^1 \\cos(2\\cos^{-1}x) \\operatorname{d}\\!x $$\n",
    "korzystając ze wzoru Simpsona dla $3$, $5$ i $7$ węzłów. Wyjaśnij wyniki"
   ]
  },
  {
   "cell_type": "code",
   "execution_count": 34,
   "id": "35c9c8dd12946029",
   "metadata": {
    "ExecuteTime": {
     "end_time": "2025-01-16T22:55:23.018733Z",
     "start_time": "2025-01-16T22:55:22.997784Z"
    }
   },
   "outputs": [],
   "source": [
    "def simps(f,a,b,N=50): # z wykładu\n",
    "    #funkcja f musi być zwektoryzowana\n",
    "    if N % 2 == 1:\n",
    "        raise ValueError(\"N must be an even integer.\")\n",
    "    dx = (b-a)/N\n",
    "    x = np.linspace(a,b,N+1)\n",
    "    y = f(x)\n",
    "    S = dx/3 * np.sum(y[0:-1:2] + 4*y[1::2] + y[2::2])\n",
    "    return S"
   ]
  },
  {
   "cell_type": "markdown",
   "id": "dcec3e4e-1fe6-4d82-beca-9d7d35a214d4",
   "metadata": {},
   "source": [
    "Z powodu niepewności co do funkcji podcałkowej wykonałam 2 wersje (mogło chodzić o funkcję odwrotną  $\\arccos$ lub zwykłą odwrotność $1/\\cos$).\n",
    "\n",
    "Dla funkcji podcałkowej $$ \\cos\\left(\\frac{2}{\\cos{x}}\\right) $$"
   ]
  },
  {
   "cell_type": "code",
   "execution_count": 48,
   "id": "0b4b2821-6a76-4a4c-8ed8-afdf82536616",
   "metadata": {},
   "outputs": [
    {
     "name": "stdout",
     "output_type": "stream",
     "text": [
      "-1.1196854554190074 -1.2884087548681498 -1.339188110791998\n",
      "-1.1196854554190074 -1.2884087548681498 -1.3391881107919983\n"
     ]
    },
    {
     "data": {
      "text/plain": [
       "-1.3655444514186057"
      ]
     },
     "execution_count": 48,
     "metadata": {},
     "output_type": "execute_result"
    }
   ],
   "source": [
    "fun = lambda x: np.cos(2*np.cos(x)**(-1))\n",
    "fun2 = lambda x: np.cos(2*np.arccos(x))\n",
    "n3 = simps(fun,-1, 1, 2)\n",
    "n5 = simps(fun,-1, 1, 4)\n",
    "n7 = simps(fun,-1, 1, 6)\n",
    "print(n3, n5,n7)\n",
    "\n",
    "x3, x5, x7 = np.linspace(-1,1,3), np.linspace(-1,1,5), np.linspace(-1,1,7)\n",
    "y3, y5, y7 = fun(x3), fun(x5), fun(x7)\n",
    "print(spi.simpson(y3,x=x3), spi.simpson(y5,x=x5), spi.simpson(y7,x=x7))\n",
    "spi.quad(fun, -1, 1)[0]"
   ]
  },
  {
   "cell_type": "markdown",
   "id": "bae6c428-1d04-42bb-a9ef-55d245c8279c",
   "metadata": {},
   "source": [
    "Dla funkcji $$ \\cos(2 \\arccos{x}) $$"
   ]
  },
  {
   "cell_type": "code",
   "execution_count": 49,
   "id": "e9ea7ee4-16b9-4948-b0dd-c99d24abffa9",
   "metadata": {},
   "outputs": [
    {
     "name": "stdout",
     "output_type": "stream",
     "text": [
      "-0.6666666666666666 -0.6666666666666665 -0.6666666666666667\n",
      "-0.6666666666666666 -0.6666666666666665 -0.6666666666666666\n"
     ]
    },
    {
     "data": {
      "text/plain": [
       "-0.6666666666666666"
      ]
     },
     "execution_count": 49,
     "metadata": {},
     "output_type": "execute_result"
    }
   ],
   "source": [
    "n3 = simps(fun2,-1, 1, 2)\n",
    "n5 = simps(fun2,-1, 1, 4)\n",
    "n7 = simps(fun2,-1, 1, 6)\n",
    "print(n3, n5,n7)\n",
    "y3, y5, y7 = fun2(x3), fun2(x5), fun2(x7)\n",
    "print(spi.simpson(y3,x=x3), spi.simpson(y5,x=x5), spi.simpson(y7,x=x7))\n",
    "spi.quad(fun2, -1, 1)[0]"
   ]
  },
  {
   "cell_type": "markdown",
   "id": "8f7112c6-3734-4006-a21c-4c31049420b2",
   "metadata": {},
   "source": [
    "Jak widać dla więszej liczby węzłów wynik jest coraz bliższy prawdziwemu wynikowi (tu: wynik z biblioteki `scipy`). Zasada działa zarówno dla pokazanej implementacji oraz dla funkcji wbudowanych.\n",
    "\n",
    "Wiemy, że błąd metody Simpsona wynosi\n",
    "$$ |E(f)| = \\frac{(b - a)}{180n^4}f^{(4)}(\\xi), \\ \\xi \\in (a, \\ b),$$ a $4.$ pochodna drugiej interpretacji funkcji wynosi $0$, więc niezależnie od liczby węzłów wynik jest bardzo dokładny, a widoczne różnice wynikają z przybliżeń komputera. Dla poprzedniej funkcji różnice są widoczne, ponieważ błąd jest większy (na pewno niezerowy)."
   ]
  },
  {
   "cell_type": "markdown",
   "id": "690a0598-b998-4055-8418-3774d1bd1998",
   "metadata": {},
   "source": [
    "## zadanie 3\n",
    "Oblicz całkę $$ \\int_{1}^\\infty (1+x^4)^{-1} \\operatorname{d}\\!x $$\n",
    "korzystając ze wzoru trapezów dla $6$ węzłów. Wskazówka: skorzystaj z\n",
    "podstawienia $x^3 = 1/t$."
   ]
  },
  {
   "attachments": {},
   "cell_type": "markdown",
   "id": "8c485b51-e648-4439-b517-34badc61581d",
   "metadata": {},
   "source": [
    "Stosując podane podstawienie mamy $$ x = t^{-1/3}\n",
    "$$\n",
    "$$ dx = -1/3\\ t^{-4/3} $$ I całka po podstawieniu i zmianie granic całkowania ma postać ma postać:\n",
    "$$ \\int_{1}^0 - \\frac{1}{3} \\frac{t ^{-4/3}}{1 + t^{-4/3}} \\operatorname{d}\\!t = \\int_{0}^1 \\frac{1}{3} \\frac{t ^{-4/3}}{1 + t^{-4/3}} \\operatorname{d}\\!t\n",
    "$$"
   ]
  },
  {
   "cell_type": "code",
   "execution_count": 70,
   "id": "39259c1d-4fd4-4ab5-8b15-74947735589a",
   "metadata": {},
   "outputs": [
    {
     "data": {
      "text/plain": [
       "0.24369827211592682"
      ]
     },
     "execution_count": 70,
     "metadata": {},
     "output_type": "execute_result"
    }
   ],
   "source": [
    "fuu = lambda t: 1/3 * t **(-4/3)/(1 + t ** (-4/3))\n",
    "t = np.linspace(10e-8, 1, 6)\n",
    "y = fuu(t)\n",
    "trapez(t, y)"
   ]
  },
  {
   "cell_type": "markdown",
   "id": "d08d6796-dd77-4dac-b859-63ca33f47a48",
   "metadata": {},
   "source": [
    "Podana funkcja ma w $0$ asymptotę, więc wybieramy punkt bliski zera jako granicę."
   ]
  },
  {
   "cell_type": "markdown",
   "id": "bd647e25-0430-4204-96b3-1baef60462ac",
   "metadata": {},
   "source": [
    "## zadanie 4\n",
    "Okres $T$ wahadła matematycznego o długości $L$ zadany jest wzorem\n",
    "$$ T = 4 \\sqrt{\\frac{L}{g}} h(\\theta_0), $$\n",
    "gdzie g to przyspieszenie ziemskie, $\\theta_0$ to amplituda oraz\n",
    "$$ h(\\theta_0) = \\int_0^{\\pi /2} \\frac{\\text{d}\\theta}{\\sqrt{1 - \\sin^2(\\theta_0/2)\\sin^2{\\theta}}} .$$\n",
    "Oblicz $h(15^\\circ)$, $h(30^\\circ)$ i $h(45^\\circ)$. Porównaj te wartości z $h(0^\\circ) = π/2$ stosowanym w przybliżeniu harmonicznym.\n"
   ]
  },
  {
   "cell_type": "code",
   "execution_count": 82,
   "id": "ddd8a36a-848a-4f74-9de2-ed42788df593",
   "metadata": {},
   "outputs": [],
   "source": [
    "def simps2(f,a,b,theta_0,N=50): # z wykładu\n",
    "    #funkcja f musi być zwektoryzowana\n",
    "    if N % 2 == 1:\n",
    "        N +=1 \n",
    "    dx = (b-a)/N\n",
    "    x = np.linspace(a,b,N+1)\n",
    "    y = f(x, theta_0)\n",
    "    S = dx/3 * np.sum(y[0:-1:2] + 4*y[1::2] + y[2::2])\n",
    "    return S"
   ]
  },
  {
   "cell_type": "code",
   "execution_count": 123,
   "id": "a5abda9b-cf25-4580-8434-0818d8be2111",
   "metadata": {},
   "outputs": [
    {
     "data": {
      "text/latex": [
       "$\\displaystyle h(15^\\circ)$ = 2.4918040321300627$"
      ],
      "text/plain": [
       "<IPython.core.display.Math object>"
      ]
     },
     "metadata": {},
     "output_type": "display_data"
    },
    {
     "data": {
      "text/latex": [
       "$\\displaystyle h(30^\\circ)$ = 1.7937249130118453$"
      ],
      "text/plain": [
       "<IPython.core.display.Math object>"
      ]
     },
     "metadata": {},
     "output_type": "display_data"
    },
    {
     "data": {
      "text/latex": [
       "$\\displaystyle h(45^\\circ)$ = 1.6789551149053525$"
      ],
      "text/plain": [
       "<IPython.core.display.Math object>"
      ]
     },
     "metadata": {},
     "output_type": "display_data"
    },
    {
     "data": {
      "text/latex": [
       "$\\displaystyle h(0^\\circ)$ = 1.5707963267948966$"
      ],
      "text/plain": [
       "<IPython.core.display.Math object>"
      ]
     },
     "metadata": {},
     "output_type": "display_data"
    }
   ],
   "source": [
    "h = lambda theta, theta_0: 1/np.sqrt(1 - np.sin(theta_0/2)**2*np.sin(theta)**2)\n",
    "theta_0 = [15, 30, 45]\n",
    "theta_0_rad = list(map(np.deg2rad, theta_0))\n",
    "\n",
    "hs = [simps2(h, 0, np.pi/2, t, 10) for t in theta_0]\n",
    "\n",
    "for i, c in enumerate(theta_0):\n",
    "    display(Math(fr\"$h({c}^\\circ)$ = {hs[i]}\"))\n",
    "\n",
    "display(Math(fr\"$h(0^\\circ)$ = {np.pi/2}\"))"
   ]
  },
  {
   "cell_type": "markdown",
   "id": "3459c480-5e12-4331-bb33-e0f85bfb0876",
   "metadata": {},
   "source": [
    "## zadanie 5\n",
    "Oblicz całkę\n",
    "$$ \\int_1^\\pi \\frac{\\ln{x}}{x^2 - 2x +2} \\text{d}x $$\n",
    "metodą  Gaussa-Legendre’a dla $2$ i $4$ węzłów."
   ]
  },
  {
   "cell_type": "code",
   "execution_count": 69,
   "id": "ac75b342-b98f-4984-95ee-f38d35e9c968",
   "metadata": {
    "ExecuteTime": {
     "end_time": "2025-01-16T22:54:28.075812Z",
     "start_time": "2025-01-16T22:54:28.036783Z"
    }
   },
   "outputs": [
    {
     "name": "stdout",
     "output_type": "stream",
     "text": [
      "0.6067250072484867 0.5847680362120717\n"
     ]
    },
    {
     "data": {
      "text/plain": [
       "0.5850093038700428"
      ]
     },
     "execution_count": 69,
     "metadata": {},
     "output_type": "execute_result"
    }
   ],
   "source": [
    "def gaussNodes(m,tol=10e-9): # z wykładu\n",
    "    \n",
    "    def legendre(t,m):\n",
    "        p0 = 1.0; p1 = t\n",
    "        for k in range(1,m):\n",
    "            p = ((2.0*k + 1.0)*t*p1 - k*p0)/(1.0 + k )\n",
    "            p0 = p1; p1 = p\n",
    "        dp = m*(p0 - t*p1)/(1.0 - t**2)\n",
    "        return p,dp\n",
    "    \n",
    "    A = np.zeros(m)\n",
    "    x = np.zeros(m)\n",
    "    nRoots = int((m + 1)/2) # liczba nieujemnych pierwiastków\n",
    "\n",
    "    for i in range(nRoots):\n",
    "        t = math.cos(math.pi*(i + 0.75)/(m + 0.5))# przybliżony pierwiastek\n",
    "\n",
    "        for j in range(30):\n",
    "            p,dp = legendre(t,m)# metoda Newtona-Raphsona\n",
    "            dt = -p/dp; t = t + dt# \n",
    "            if abs(dt) < tol:\n",
    "                x[i] = t; x[m-i-1] = -t\n",
    "                A[i] = 2.0/(1.0 - t**2)/(dp**2) # Eq.(6.25)\n",
    "                A[m-i-1] = A[i]\n",
    "                break\n",
    "    return x,A\n",
    "\n",
    "def gaussQuad(f,a,b,m):\n",
    "    c1 = (b + a)/2.0\n",
    "    c2 = (b - a)/2.0\n",
    "    x,A = gaussNodes(m)\n",
    "    sum = 0.0\n",
    "    for i in range(len(x)):\n",
    "        sum = sum + A[i]*f(c1 + c2*x[i])\n",
    "    return c2*sum\n",
    "\n",
    "f = lambda x: np.log(x) / (x**2 - 2*x + 2)\n",
    "x2 = np.linspace(1, np.pi, 2)\n",
    "x4 = np.linspace(1, np.pi, 4)\n",
    "print(gaussQuad(f, 1, np.pi, 2), gaussQuad(f, 1, np.pi, 4))\n",
    "spi.fixed_quad(f, 1, np.pi)[0]"
   ]
  },
  {
   "cell_type": "markdown",
   "id": "b1c40d38-1a19-40da-925f-95ab55e9f21f",
   "metadata": {},
   "source": [
    "Jak widać, funkcja dla $4$ węzłów daje lepsze przybliżenie niż dla $2$ węzłów (porównujemy z funkcją wbudowaną `scipy.integrate.fixed_quad`)."
   ]
  },
  {
   "cell_type": "markdown",
   "id": "a287925f-6b7b-4ea1-b7c2-301e26db0ce9",
   "metadata": {},
   "source": [
    "## zadanie 6\n",
    "Dane są funkcje\n",
    "$$ f_1(x) = x^3 - 2x,\\ f_2(x) = \\sin{x},\\ f_3(x) = \\exp{x}. $$\n",
    "Uzupełnij poniższą tabelę:\n",
    "$$\n",
    "\\def\\arraystretch{1}\n",
    "    \\begin{array}{|l||l|l|l|l|}\n",
    "    \\hline \\hline\n",
    "     \\text{Pochodne} & h & f^{\\prime}(x) − D_{f1} &  f^{\\prime}(x) − D_{c2} & f^{\\prime}(x) − D_{c4} \\\\ \\hline\n",
    "     f^{\\prime}_1(1) = 1 & 0,1 & & & \\\\ \\hline\n",
    "     & 0,01 & & & \\\\ \\hline\n",
    "     & 0,001 & & & \\\\ \\hline\n",
    "     f^{\\prime}_2(\\pi/3) = 1/2 & 0,1 & & & \\\\ \\hline\n",
    "     & 0,01 & & & \\\\ \\hline\n",
    "     & 0,001 & & & \\\\ \\hline\n",
    "     f^{\\prime}_3(0) = 1 & 0,1 & & & \\\\ \\hline\n",
    "     & 0,01 & & & \\\\ \\hline\n",
    "     & 0,001 & & & \\\\ \\hline\n",
    "    \\end{array}\n",
    "$$"
   ]
  },
  {
   "cell_type": "code",
   "execution_count": 146,
   "id": "0f585a7f-12b3-4353-9d07-5d39625a0095",
   "metadata": {},
   "outputs": [],
   "source": [
    "f1 = lambda x: x**3 - 2*x\n",
    "f2 = lambda x: np.sin(x)\n",
    "f3 = lambda x: np.exp(x)\n",
    "df1 = lambda x: 3*x**2 - 2\n",
    "df2 = lambda x: np.cos(x)\n",
    "df3 = lambda x: np.exp(x)\n",
    "def Dc2(f,x,h):\n",
    "    return (f(x+h) - f(x-h)) / (2*h)\n",
    "def Dc4(f,x,h):\n",
    "    return (2 * Dc2(f,x,h) - Dc2(f,x,2*h)) / (3*h) \n",
    "# niżej rozpisane i działa lepiej\n",
    "def Dc44(f,x,h):\n",
    "    return (8 * f(x + h) - 8 * f(x - h) - f(x + 2 * h) + f(x - 2 * h)) / (12 * h)\n",
    "def Df1(f,x,h):\n",
    "    return (f(x + h) - f(x)) / h \n"
   ]
  },
  {
   "cell_type": "code",
   "execution_count": 147,
   "id": "ef2d8f22-6dc7-4013-ab33-c4357776ff9b",
   "metadata": {},
   "outputs": [
    {
     "data": {
      "text/html": [
       "<div>\n",
       "<style scoped>\n",
       "    .dataframe tbody tr th:only-of-type {\n",
       "        vertical-align: middle;\n",
       "    }\n",
       "\n",
       "    .dataframe tbody tr th {\n",
       "        vertical-align: top;\n",
       "    }\n",
       "\n",
       "    .dataframe thead th {\n",
       "        text-align: right;\n",
       "    }\n",
       "</style>\n",
       "<table border=\"1\" class=\"dataframe\">\n",
       "  <thead>\n",
       "    <tr style=\"text-align: right;\">\n",
       "      <th></th>\n",
       "      <th>Pochodne</th>\n",
       "      <th>h</th>\n",
       "      <th>$f^{\\prime}(x) - D_{f1}$</th>\n",
       "      <th>$f^{\\prime}(x) - D_{c2}$</th>\n",
       "      <th>$f^{\\prime}(x) - D_{c4}$</th>\n",
       "    </tr>\n",
       "  </thead>\n",
       "  <tbody>\n",
       "    <tr>\n",
       "      <th>0</th>\n",
       "      <td>$f^{\\prime}_1(1) = 1$</td>\n",
       "      <td>0.100</td>\n",
       "      <td>0.310000</td>\n",
       "      <td>1.000000e-02</td>\n",
       "      <td>1.110223e-15</td>\n",
       "    </tr>\n",
       "    <tr>\n",
       "      <th>1</th>\n",
       "      <td>$f^{\\prime}_1(1) = 1$</td>\n",
       "      <td>0.010</td>\n",
       "      <td>0.030100</td>\n",
       "      <td>1.000000e-04</td>\n",
       "      <td>4.662937e-15</td>\n",
       "    </tr>\n",
       "    <tr>\n",
       "      <th>2</th>\n",
       "      <td>$f^{\\prime}_1(1) = 1$</td>\n",
       "      <td>0.001</td>\n",
       "      <td>0.003001</td>\n",
       "      <td>1.000000e-06</td>\n",
       "      <td>3.619327e-14</td>\n",
       "    </tr>\n",
       "    <tr>\n",
       "      <th>3</th>\n",
       "      <td>$f^{\\prime}_2(\\pi/3) = 1/2$</td>\n",
       "      <td>0.100</td>\n",
       "      <td>0.044098</td>\n",
       "      <td>8.329168e-04</td>\n",
       "      <td>1.664684e-06</td>\n",
       "    </tr>\n",
       "    <tr>\n",
       "      <th>4</th>\n",
       "      <td>$f^{\\prime}_2(\\pi/3) = 1/2$</td>\n",
       "      <td>0.010</td>\n",
       "      <td>0.004338</td>\n",
       "      <td>8.333292e-06</td>\n",
       "      <td>1.666589e-10</td>\n",
       "    </tr>\n",
       "    <tr>\n",
       "      <th>5</th>\n",
       "      <td>$f^{\\prime}_2(\\pi/3) = 1/2$</td>\n",
       "      <td>0.001</td>\n",
       "      <td>0.000433</td>\n",
       "      <td>8.333340e-08</td>\n",
       "      <td>1.106892e-13</td>\n",
       "    </tr>\n",
       "    <tr>\n",
       "      <th>6</th>\n",
       "      <td>$f^{\\prime}_3(0) = 1$</td>\n",
       "      <td>0.100</td>\n",
       "      <td>0.051709</td>\n",
       "      <td>1.667500e-03</td>\n",
       "      <td>3.337304e-06</td>\n",
       "    </tr>\n",
       "    <tr>\n",
       "      <th>7</th>\n",
       "      <td>$f^{\\prime}_3(0) = 1$</td>\n",
       "      <td>0.010</td>\n",
       "      <td>0.005017</td>\n",
       "      <td>1.666675e-05</td>\n",
       "      <td>3.333481e-10</td>\n",
       "    </tr>\n",
       "    <tr>\n",
       "      <th>8</th>\n",
       "      <td>$f^{\\prime}_3(0) = 1$</td>\n",
       "      <td>0.001</td>\n",
       "      <td>0.000500</td>\n",
       "      <td>1.666667e-07</td>\n",
       "      <td>2.686740e-14</td>\n",
       "    </tr>\n",
       "  </tbody>\n",
       "</table>\n",
       "</div>"
      ],
      "text/plain": [
       "                      Pochodne      h  $f^{\\prime}(x) - D_{f1}$  \\\n",
       "0        $f^{\\prime}_1(1) = 1$  0.100                  0.310000   \n",
       "1        $f^{\\prime}_1(1) = 1$  0.010                  0.030100   \n",
       "2        $f^{\\prime}_1(1) = 1$  0.001                  0.003001   \n",
       "3  $f^{\\prime}_2(\\pi/3) = 1/2$  0.100                  0.044098   \n",
       "4  $f^{\\prime}_2(\\pi/3) = 1/2$  0.010                  0.004338   \n",
       "5  $f^{\\prime}_2(\\pi/3) = 1/2$  0.001                  0.000433   \n",
       "6        $f^{\\prime}_3(0) = 1$  0.100                  0.051709   \n",
       "7        $f^{\\prime}_3(0) = 1$  0.010                  0.005017   \n",
       "8        $f^{\\prime}_3(0) = 1$  0.001                  0.000500   \n",
       "\n",
       "   $f^{\\prime}(x) - D_{c2}$  $f^{\\prime}(x) - D_{c4}$  \n",
       "0              1.000000e-02              1.110223e-15  \n",
       "1              1.000000e-04              4.662937e-15  \n",
       "2              1.000000e-06              3.619327e-14  \n",
       "3              8.329168e-04              1.664684e-06  \n",
       "4              8.333292e-06              1.666589e-10  \n",
       "5              8.333340e-08              1.106892e-13  \n",
       "6              1.667500e-03              3.337304e-06  \n",
       "7              1.666675e-05              3.333481e-10  \n",
       "8              1.666667e-07              2.686740e-14  "
      ]
     },
     "execution_count": 147,
     "metadata": {},
     "output_type": "execute_result"
    }
   ],
   "source": [
    "levels = [(f1, df1, 1), (f2, df2, np.pi/3), (f3, df3, 0)]\n",
    "hs = [0.1, 0.01, 0.001]\n",
    "wyniki = []\n",
    "for f, df, x in levels:\n",
    "    if f == f1:\n",
    "        label = r'$f^{\\prime}_1(1) = 1$'  \n",
    "    else:\n",
    "        if f == f2:\n",
    "            label= r'$f^{\\prime}_2(\\pi/3) = 1/2$'\n",
    "        else:\n",
    "            if f == f3:\n",
    "                label = r'$f^{\\prime}_3(0) = 1$' \n",
    "    # wyniki.append([])\n",
    "    for h in hs:\n",
    "        uno = abs(df(x) - Df1(f,x,h))\n",
    "        dos = abs(df(x) - Dc2(f,x,h))\n",
    "        tres = abs(df(x) - Dc44(f,x,h))\n",
    "        wyniki.append([label,h, uno, dos, tres])\n",
    "df = pd.DataFrame(wyniki, columns = ['Pochodne', 'h', r'$f^{\\prime}(x) - D_{f1}$', r'$f^{\\prime}(x) - D_{c2}$', r'$f^{\\prime}(x) - D_{c4}$'])\n",
    "df\n",
    "                        "
   ]
  },
  {
   "cell_type": "markdown",
   "id": "9f56631b-8507-4e12-8379-2101b6f5e76e",
   "metadata": {},
   "source": [
    "## zadanie 7\n",
    "Na podstawie danych z tabeli oblicz $f^{\\prime}(0.2)$ najdokładniej, jak to tylko\n",
    "możliwe:\n",
    "$$\n",
    "\\def\\arraystretch{1}\n",
    "    \\begin{array}{|l||l|l|l|l|l|}\n",
    "    \\hline \\hline\n",
    "     x & 0, 0 & 0, 1 & 0, 2 & 0, 3 & 0, 4 \\\\ \\hline\n",
    "    f(x) & 0, 000000 & 0, 078348 & 0, 138910 & 0, 192916 & 0, 244981 \\\\ \\hline\n",
    "    \\end{array}\n",
    "$$"
   ]
  },
  {
   "cell_type": "code",
   "execution_count": 222,
   "id": "11394b11-4761-4f4c-9d2c-c3a713941e52",
   "metadata": {},
   "outputs": [],
   "source": [
    "xs = [0,0.1,0.2,0.3,0.4]\n",
    "ys = [0.00000, 0.078348, 0.138910, 0.192916, 0.244981] \n",
    "def Dc4_2(ys, xs, x, h):\n",
    "    i = xs.index(x)\n",
    "    return ( 8 * ys[i + 1] - 8 * ys[i - 1] - ys[i + 2] + ys[i - 2]) / (12 * h)\n",
    "def poly_derivative(coeffs):\n",
    "    n = len(coeffs) - 1\n",
    "    new_coeffs = []\n",
    "    for i in range(n):\n",
    "        new_coeffs.append(coeffs[i] * (n-i))\n",
    "    return np.poly1d(new_coeffs)"
   ]
  },
  {
   "cell_type": "code",
   "execution_count": 226,
   "id": "ec119d54-94d1-46c3-b53d-a2298bc11cdc",
   "metadata": {},
   "outputs": [
    {
     "name": "stdout",
     "output_type": "stream",
     "text": [
      "Różnice centralne: 0.5596358333333332\n",
      "Interpolacja wielomianowa: 0.5596358333333331\n"
     ]
    }
   ],
   "source": [
    "coeff = np.polyfit(xs, ys, deg=len(xs)-1)\n",
    "poly = np.poly1d(coeff) \n",
    "poly_deriv = poly_derivative(poly.coeffs)\n",
    "print(f'Różnice centralne: {Dc4_2(ys, xs, 0.2, 0.1)}')\n",
    "print(f'Interpolacja wielomianowa: {poly_deriv(0.2)}')\n"
   ]
  },
  {
   "cell_type": "markdown",
   "id": "b6da0010-a524-4c90-aa8e-96af20fe6488",
   "metadata": {},
   "source": [
    "## zadanie 8\n",
    "Korzystając z interpolacji wielomianowej, oblicz $f^{\\prime}(0)$ i $f^{\\prime \\prime}(0)$, jeśli\n",
    "$$\n",
    "\\def\\arraystretch{1}\n",
    "    \\begin{array}{|l||l|l|l|l|}\n",
    "    \\hline \\hline\n",
    "     x & −2, 2 & −0, 3 & 0, 8 & 1, 9 \\\\ \\hline\n",
    "    f(x) & 15, 180 & 10, 962 & 1, 920 & −2, 040 \\\\ \\hline\n",
    "    \\end{array}\n",
    "$$"
   ]
  },
  {
   "cell_type": "code",
   "execution_count": 231,
   "id": "fe8eb5fa-46ea-4f96-9282-8410b1327a7e",
   "metadata": {},
   "outputs": [
    {
     "name": "stdout",
     "output_type": "stream",
     "text": [
      "f'(0) = -8.559999999999993\n",
      "f'(0) = -0.5999999999999965\n"
     ]
    }
   ],
   "source": [
    "xs = [-2.2, -0.3, 0.8, 1.9]\n",
    "ys = [15.180, 10.962, 1.920, -2.040]\n",
    "coeffs = np.polyfit(xs, ys, deg=len(xs)-1)\n",
    "poly_p = poly_derivative(coeffs)\n",
    "poly_bis = poly_derivative(poly_p.coeffs)\n",
    "print(f'f\\'(0) = {poly_p(0)}')\n",
    "print(f'f\\'(0) = {poly_bis(0)}')"
   ]
  },
  {
   "cell_type": "code",
   "execution_count": null,
   "id": "a7c466ed-028a-44fa-8a9e-472dfaf6694a",
   "metadata": {},
   "outputs": [],
   "source": []
  }
 ],
 "metadata": {
  "kernelspec": {
   "display_name": "Python 3 (ipykernel)",
   "language": "python",
   "name": "python3"
  },
  "language_info": {
   "codemirror_mode": {
    "name": "ipython",
    "version": 3
   },
   "file_extension": ".py",
   "mimetype": "text/x-python",
   "name": "python",
   "nbconvert_exporter": "python",
   "pygments_lexer": "ipython3",
   "version": "3.11.9"
  }
 },
 "nbformat": 4,
 "nbformat_minor": 5
}
